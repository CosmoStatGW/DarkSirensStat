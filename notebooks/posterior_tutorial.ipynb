{
 "cells": [
  {
   "cell_type": "markdown",
   "metadata": {},
   "source": [
    "The following cell adds Xi0Stat to your local path. This way you will be able to import functions as if you were working in the Xi0Stat folder"
   ]
  },
  {
   "cell_type": "code",
   "execution_count": 1,
   "metadata": {},
   "outputs": [],
   "source": [
    "import sys  \n",
    "\n",
    "# add here the path to your local folder where Xi0Stat is saved\n",
    "sys.path.insert(0, '/Users/Michi/Dropbox/Local/statistical_method_schutz_data_local/Xi0Stat') "
   ]
  },
  {
   "cell_type": "code",
   "execution_count": 4,
   "metadata": {},
   "outputs": [],
   "source": [
    "# Import all there is in GW, galaxy, GWgalaxy\n",
    "\n",
    "from GW import *\n",
    "from galaxy import *\n",
    "from GWgalaxy import *"
   ]
  },
  {
   "cell_type": "code",
   "execution_count": 5,
   "metadata": {},
   "outputs": [
    {
     "data": {
      "text/plain": [
       "0.01"
      ]
     },
     "execution_count": 5,
     "metadata": {},
     "output_type": "execute_result"
    }
   ],
   "source": [
    "k='0.01'\n",
    "float(k)"
   ]
  },
  {
   "cell_type": "markdown",
   "metadata": {},
   "source": [
    "## LOAD DATA"
   ]
  },
  {
   "cell_type": "markdown",
   "metadata": {},
   "source": [
    "#### Load GW data\n",
    "\n",
    "First, we import the GW skymaps. The function get_all_O2 takes as input the folder where the skymaps are. \n",
    "If subset_names is not specified, it loads all the skymaps in the folder. If subset_names is specified, it loads data only for the corresponding event.\n",
    "\n",
    "\n",
    "You can also entry the path where the metadata of the event are saved (estimated masses, luminosity distance, etc. ). These metadata correspond to those visible in the table here: https://www.gw-openscience.org/eventapi/html/GWTC-1-confident/\n",
    "\n",
    "They should be saved as a .csv file (downloadable from the above link, at the bottom of the page)\n",
    "Metadata are used to read the quoted luminosity distance value (but this is not the only option, see below)\n",
    "\n",
    "Note: if you find errors when you don't use metadata, let me know. It is better to use them"
   ]
  },
  {
   "cell_type": "code",
   "execution_count": 6,
   "metadata": {},
   "outputs": [],
   "source": [
    "# Folder where data are stored locally\n",
    "data_root='/Users/Michi/Dropbox/Local/Physics_projects/statistical_method_schutz_data_local/'\n",
    "\n",
    "# Folder where the GW skymaps are located\n",
    "O2_loc = data_root+'GWs/O2_skymaps/'\n",
    "\n",
    "# metadata\n",
    "meta_path = '/Users/Michi/Dropbox/Local/Physics_projects/statistical_method_schutz_data_local/GWs/GWTC-1-confident.csv'\n"
   ]
  },
  {
   "cell_type": "code",
   "execution_count": 7,
   "metadata": {},
   "outputs": [
    {
     "name": "stdout",
     "output_type": "stream",
     "text": [
      "--- GW events:\n",
      "['GW170817']\n",
      "Reading skymaps....\n",
      "NSIDE = 1024\n",
      "ORDERING = NESTED in fits file\n",
      "INDXSCHM = IMPLICIT\n",
      "Ordering converted to RING\n",
      "Ordering converted to RING\n",
      "Ordering converted to RING\n",
      "Ordering converted to RING\n",
      "Event name: GW170817 \n",
      "\n",
      "['GW170817']\n"
     ]
    }
   ],
   "source": [
    "O2 = get_all_O2(O2_loc, subset=True, subset_names=['GW170817'], \n",
    "                meta_path=meta_path)"
   ]
  },
  {
   "cell_type": "markdown",
   "metadata": {},
   "source": [
    "#### Load galaxy catalogue and instantiate a GWGalaxy object\n",
    "\n",
    "The GWGalaxy object contains a skymap_3D object for each GW event, and a GalCat object for GLADE.\n",
    "The skymaps have been created before and are passed in the instantiation (O2 in this case), while the catalogue can be either loaded in advance and passed to the instantiation, or we can just specify its path and the options and it will be loaded. This is what we do here."
   ]
  },
  {
   "cell_type": "code",
   "execution_count": 8,
   "metadata": {},
   "outputs": [],
   "source": [
    "# path where GLADE is saved\n",
    "GLADE_PATH = '/Users/Michi/Dropbox/Local/Physics_projects/statistical_method_schutz_data_local/galaxy_catalogues/GLADE_2.4.txt'\n",
    "  \n",
    "# column names for GLADE\n",
    "colnames = ['PGC', 'GWGC name', 'HyperLEDA_name', '2MASS_name', 'SDSS-DR12_name', 'flag1', 'RA', 'dec', \n",
    "            'dist', 'dist_err', 'z', 'B', 'B_err', 'B_Abs', 'J', 'J_err', 'H', 'H_err', 'K', 'K_err',\n",
    "            'flag2', 'flag3']\n",
    "\n",
    "# sublist of columns to keep\n",
    "col_list=   ['PGC', 'GWGC name','HyperLEDA_name','RA', 'dec', 'dist', 'z',  'B', 'K', 'flag2']\n"
   ]
  },
  {
   "cell_type": "markdown",
   "metadata": {},
   "source": [
    "The input options for the GWGalaxy objects for loading GLADE are the same as in the funciton edit_catalogue. Refer to that to check all teh availbale possibilities.\n",
    "\n",
    "Here we do:\n",
    "    - drop galaxies with no  value for luminosity distance\n",
    "    - drop HyperLeda galaxies with flag2=2 (drop_HyperLeda2=True)\n",
    "    - Compute cosmological redshift with cosmo given by H0=70, Om0=0.27 \n",
    "        The result will be stored in a new column 'z_cosmo'\n",
    "    - Correct 'z_cosmo' for CMB and group velocities. Result will be stored in a column 'z_cosmo_corr'\n",
    "    - Add B an K luminosities . Results will be stored in columns B_Lum and K_Lum \n",
    "    - Add errors on redshift with average GLADE values (err_vals='GLADE')\n",
    "    \n",
    "Relevant parameters:\n",
    "     - 'which_z' is a string specifying the name of the redshift column that will be used during the analysis.\n",
    "         Here we correct for CMB and the result will be stored in the column 'z_corr', so to use the CMB corrected redshift we specify which_z='z_corr'. \n",
    "         For example, if one does not want to use the CMB correction, he/she can give which_z='z_cosmo' to use the cosmological redshift, or 'z' to use the original GLADE redshift\n",
    "     - 'which_z_correct' is a string specifying the name of the redshift column that will be corrected for CMB motion. After the discussion we had, it should be set to 'z_cosmo'"
   ]
  },
  {
   "cell_type": "code",
   "execution_count": 37,
   "metadata": {},
   "outputs": [
    {
     "name": "stdout",
     "output_type": "stream",
     "text": [
      "--- Loading data for catalogue GLADE_2.4.txt ...\n"
     ]
    },
    {
     "name": "stderr",
     "output_type": "stream",
     "text": [
      "/Users/Michi/miniconda3/envs/snakes/lib/python3.7/site-packages/IPython/core/interactiveshell.py:3296: DtypeWarning: Columns (1,2,3,4) have mixed types. Specify dtype option on import or set low_memory=False.\n",
      "  exec(code_obj, self.user_global_ns, self.user_ns)\n"
     ]
    },
    {
     "name": "stdout",
     "output_type": "stream",
     "text": [
      "Done.\n",
      "N. of objects: 3263611\n",
      "Keeping only galaxies with known value of luminosity distance...\n",
      "Kept 2722493 points or 83% of total\n",
      "Dropping galaxies with HyperLeda name=null and flag2=2...\n",
      "Kept 2720966 points or 83% of total\n",
      "Computing cosmological redshifts from given luminosity distance with H0=70.0 km / (Mpc s), Om0=0.27...\n",
      "Interpolating between z_min=0, z_max=6.49511599474\n",
      "Correcting z_cosmo for group velocities...\n",
      "Correcting z_cosmo for CMB reference frame...\n",
      "Adding errors on z with GLADE values\n"
     ]
    },
    {
     "name": "stderr",
     "output_type": "stream",
     "text": [
      "/Users/Michi/Dropbox/Local/Physics_projects/statistical_method_schutz_data_local/Xi0Stat/utils.py:272: SettingWithCopyWarning: \n",
      "A value is trying to be set on a copy of a slice from a DataFrame\n",
      "\n",
      "See the caveats in the documentation: http://pandas.pydata.org/pandas-docs/stable/user_guide/indexing.html#returning-a-view-versus-a-copy\n",
      "  df.z_lowerbound[df.z_lowerbound < 0] = 0\n",
      "/Users/Michi/Dropbox/Local/Physics_projects/statistical_method_schutz_data_local/Xi0Stat/utils.py:274: SettingWithCopyWarning: \n",
      "A value is trying to be set on a copy of a slice from a DataFrame\n",
      "\n",
      "See the caveats in the documentation: http://pandas.pydata.org/pandas-docs/stable/user_guide/indexing.html#returning-a-view-versus-a-copy\n",
      "  df.z_lower[df.z_lower < 0.5*df[which_z]] = 0.5*df[which_z]\n"
     ]
    },
    {
     "name": "stdout",
     "output_type": "stream",
     "text": [
      "Computing total luminosity in B band...\n"
     ]
    },
    {
     "name": "stderr",
     "output_type": "stream",
     "text": [
      "/Users/Michi/Dropbox/Local/Physics_projects/statistical_method_schutz_data_local/Xi0Stat/utils.py:282: RuntimeWarning: invalid value encountered in log10\n",
      "  df.loc[:,\"B_Abs\"]=df.B-5*np.log10(my_dist)-25\n"
     ]
    },
    {
     "name": "stdout",
     "output_type": "stream",
     "text": [
      "Computing total luminosity in K band...\n"
     ]
    },
    {
     "name": "stderr",
     "output_type": "stream",
     "text": [
      "/Users/Michi/Dropbox/Local/Physics_projects/statistical_method_schutz_data_local/Xi0Stat/utils.py:294: RuntimeWarning: invalid value encountered in log10\n",
      "  df.loc[:,\"K_Abs\"]=df.K-5*np.log10(my_dist)-25\n"
     ]
    },
    {
     "name": "stdout",
     "output_type": "stream",
     "text": [
      "Done.\n",
      "As a redshift, I am using the column z_cosmo_corr\n",
      "\n",
      " --- GW events: \n",
      "GW170817\n"
     ]
    }
   ],
   "source": [
    "GWGal_GLADE = GWGalaxy(O2, meta_path=meta_path,\n",
    "                       galCat_path=GLADE_PATH, colnames=colnames, col_list=None, \n",
    "                        H0=70, Om0=0.27,\n",
    "                        B_band_select=False, K_band_select=False, add_B_lum=True, add_K_lum=True, MBSun=5.498, \n",
    "                        drop_z_uncorr=False,\n",
    "                       drop_no_dist=True,\n",
    "                       get_cosmo_z=True,\n",
    "                       which_z='z_cosmo_corr', \n",
    "                       CMB_correct=True, \n",
    "                       group_correct=True,\n",
    "                       which_z_correct='z_cosmo',\n",
    "                       pos_z_cosmo=False, \n",
    "                       z_flag=None,\n",
    "                       err_vals='GLADE', \n",
    "                       drop_HyperLeda2=True\n",
    "                      ) "
   ]
  },
  {
   "cell_type": "code",
   "execution_count": 38,
   "metadata": {},
   "outputs": [
    {
     "data": {
      "text/html": [
       "<div>\n",
       "<style scoped>\n",
       "    .dataframe tbody tr th:only-of-type {\n",
       "        vertical-align: middle;\n",
       "    }\n",
       "\n",
       "    .dataframe tbody tr th {\n",
       "        vertical-align: top;\n",
       "    }\n",
       "\n",
       "    .dataframe thead th {\n",
       "        text-align: right;\n",
       "    }\n",
       "</style>\n",
       "<table border=\"1\" class=\"dataframe\">\n",
       "  <thead>\n",
       "    <tr style=\"text-align: right;\">\n",
       "      <th></th>\n",
       "      <th>PGC</th>\n",
       "      <th>GWGC name</th>\n",
       "      <th>HyperLEDA_name</th>\n",
       "      <th>2MASS_name</th>\n",
       "      <th>SDSS-DR12_name</th>\n",
       "      <th>flag1</th>\n",
       "      <th>RA</th>\n",
       "      <th>dec</th>\n",
       "      <th>dist</th>\n",
       "      <th>dist_err</th>\n",
       "      <th>...</th>\n",
       "      <th>z_cosmo_or</th>\n",
       "      <th>group_correction</th>\n",
       "      <th>z_cosmo_corr</th>\n",
       "      <th>Delta_z</th>\n",
       "      <th>z_lowerbound</th>\n",
       "      <th>z_lower</th>\n",
       "      <th>z_upper</th>\n",
       "      <th>z_upperbound</th>\n",
       "      <th>B_Lum</th>\n",
       "      <th>K_Lum</th>\n",
       "    </tr>\n",
       "  </thead>\n",
       "  <tbody>\n",
       "    <tr>\n",
       "      <td>0</td>\n",
       "      <td>43495.0</td>\n",
       "      <td>NGC4736</td>\n",
       "      <td>NGC4736</td>\n",
       "      <td>12505314+4107125</td>\n",
       "      <td>NaN</td>\n",
       "      <td>G</td>\n",
       "      <td>192.721451</td>\n",
       "      <td>41.120152</td>\n",
       "      <td>4.245715</td>\n",
       "      <td>NaN</td>\n",
       "      <td>...</td>\n",
       "      <td>0.000991</td>\n",
       "      <td>1</td>\n",
       "      <td>0.001634</td>\n",
       "      <td>0.00015</td>\n",
       "      <td>0.001184</td>\n",
       "      <td>0.001484</td>\n",
       "      <td>0.001784</td>\n",
       "      <td>0.002084</td>\n",
       "      <td>2.346736</td>\n",
       "      <td>8.544058</td>\n",
       "    </tr>\n",
       "    <tr>\n",
       "      <td>1</td>\n",
       "      <td>41934.0</td>\n",
       "      <td>NGC4548</td>\n",
       "      <td>NGC4548</td>\n",
       "      <td>12352642+1429467</td>\n",
       "      <td>NaN</td>\n",
       "      <td>G</td>\n",
       "      <td>188.860123</td>\n",
       "      <td>14.496320</td>\n",
       "      <td>17.700979</td>\n",
       "      <td>NaN</td>\n",
       "      <td>...</td>\n",
       "      <td>0.004120</td>\n",
       "      <td>1</td>\n",
       "      <td>0.005513</td>\n",
       "      <td>0.00015</td>\n",
       "      <td>0.005063</td>\n",
       "      <td>0.005363</td>\n",
       "      <td>0.005663</td>\n",
       "      <td>0.005963</td>\n",
       "      <td>4.065821</td>\n",
       "      <td>12.904710</td>\n",
       "    </tr>\n",
       "    <tr>\n",
       "      <td>2</td>\n",
       "      <td>60921.0</td>\n",
       "      <td>NGC6503</td>\n",
       "      <td>NGC6503</td>\n",
       "      <td>17492651+7008396</td>\n",
       "      <td>NaN</td>\n",
       "      <td>G</td>\n",
       "      <td>267.360474</td>\n",
       "      <td>70.144341</td>\n",
       "      <td>4.285351</td>\n",
       "      <td>NaN</td>\n",
       "      <td>...</td>\n",
       "      <td>0.001000</td>\n",
       "      <td>1</td>\n",
       "      <td>-0.000124</td>\n",
       "      <td>0.00015</td>\n",
       "      <td>0.000000</td>\n",
       "      <td>-0.000062</td>\n",
       "      <td>0.000026</td>\n",
       "      <td>0.000326</td>\n",
       "      <td>NaN</td>\n",
       "      <td>NaN</td>\n",
       "    </tr>\n",
       "    <tr>\n",
       "      <td>3</td>\n",
       "      <td>40950.0</td>\n",
       "      <td>NGC4442</td>\n",
       "      <td>NGC4442</td>\n",
       "      <td>12280389+0948130</td>\n",
       "      <td>NaN</td>\n",
       "      <td>G</td>\n",
       "      <td>187.016220</td>\n",
       "      <td>9.803620</td>\n",
       "      <td>15.275919</td>\n",
       "      <td>NaN</td>\n",
       "      <td>...</td>\n",
       "      <td>0.003557</td>\n",
       "      <td>1</td>\n",
       "      <td>0.005557</td>\n",
       "      <td>0.00015</td>\n",
       "      <td>0.005107</td>\n",
       "      <td>0.005407</td>\n",
       "      <td>0.005707</td>\n",
       "      <td>0.006007</td>\n",
       "      <td>2.755565</td>\n",
       "      <td>12.960170</td>\n",
       "    </tr>\n",
       "    <tr>\n",
       "      <td>4</td>\n",
       "      <td>41164.0</td>\n",
       "      <td>NGC4469</td>\n",
       "      <td>NGC4469</td>\n",
       "      <td>NaN</td>\n",
       "      <td>NaN</td>\n",
       "      <td>G</td>\n",
       "      <td>187.367000</td>\n",
       "      <td>8.749890</td>\n",
       "      <td>17.783360</td>\n",
       "      <td>NaN</td>\n",
       "      <td>...</td>\n",
       "      <td>0.004139</td>\n",
       "      <td>1</td>\n",
       "      <td>0.005561</td>\n",
       "      <td>0.00015</td>\n",
       "      <td>0.005111</td>\n",
       "      <td>0.005411</td>\n",
       "      <td>0.005711</td>\n",
       "      <td>0.006011</td>\n",
       "      <td>0.992631</td>\n",
       "      <td>NaN</td>\n",
       "    </tr>\n",
       "  </tbody>\n",
       "</table>\n",
       "<p>5 rows × 30 columns</p>\n",
       "</div>"
      ],
      "text/plain": [
       "       PGC GWGC name HyperLEDA_name        2MASS_name SDSS-DR12_name flag1  \\\n",
       "0  43495.0   NGC4736        NGC4736  12505314+4107125            NaN     G   \n",
       "1  41934.0   NGC4548        NGC4548  12352642+1429467            NaN     G   \n",
       "2  60921.0   NGC6503        NGC6503  17492651+7008396            NaN     G   \n",
       "3  40950.0   NGC4442        NGC4442  12280389+0948130            NaN     G   \n",
       "4  41164.0   NGC4469        NGC4469               NaN            NaN     G   \n",
       "\n",
       "           RA        dec       dist  dist_err  ...  z_cosmo_or  \\\n",
       "0  192.721451  41.120152   4.245715       NaN  ...    0.000991   \n",
       "1  188.860123  14.496320  17.700979       NaN  ...    0.004120   \n",
       "2  267.360474  70.144341   4.285351       NaN  ...    0.001000   \n",
       "3  187.016220   9.803620  15.275919       NaN  ...    0.003557   \n",
       "4  187.367000   8.749890  17.783360       NaN  ...    0.004139   \n",
       "\n",
       "   group_correction  z_cosmo_corr  Delta_z  z_lowerbound   z_lower   z_upper  \\\n",
       "0                 1      0.001634  0.00015      0.001184  0.001484  0.001784   \n",
       "1                 1      0.005513  0.00015      0.005063  0.005363  0.005663   \n",
       "2                 1     -0.000124  0.00015      0.000000 -0.000062  0.000026   \n",
       "3                 1      0.005557  0.00015      0.005107  0.005407  0.005707   \n",
       "4                 1      0.005561  0.00015      0.005111  0.005411  0.005711   \n",
       "\n",
       "   z_upperbound     B_Lum      K_Lum  \n",
       "0      0.002084  2.346736   8.544058  \n",
       "1      0.005963  4.065821  12.904710  \n",
       "2      0.000326       NaN        NaN  \n",
       "3      0.006007  2.755565  12.960170  \n",
       "4      0.006011  0.992631        NaN  \n",
       "\n",
       "[5 rows x 30 columns]"
      ]
     },
     "execution_count": 38,
     "metadata": {},
     "output_type": "execute_result"
    }
   ],
   "source": [
    "# Example of the result. The galaxy catalogue is stored in GWGal_GLADE.galCat.cat \n",
    "# Let's access it \n",
    "\n",
    "GWGal_GLADE.galCat.cat.head()"
   ]
  },
  {
   "cell_type": "code",
   "execution_count": 39,
   "metadata": {},
   "outputs": [
    {
     "data": {
      "text/html": [
       "<div>\n",
       "<style scoped>\n",
       "    .dataframe tbody tr th:only-of-type {\n",
       "        vertical-align: middle;\n",
       "    }\n",
       "\n",
       "    .dataframe tbody tr th {\n",
       "        vertical-align: top;\n",
       "    }\n",
       "\n",
       "    .dataframe thead th {\n",
       "        text-align: right;\n",
       "    }\n",
       "</style>\n",
       "<table border=\"1\" class=\"dataframe\">\n",
       "  <thead>\n",
       "    <tr style=\"text-align: right;\">\n",
       "      <th></th>\n",
       "      <th>PGC</th>\n",
       "      <th>GWGC name</th>\n",
       "      <th>HyperLEDA_name</th>\n",
       "      <th>2MASS_name</th>\n",
       "      <th>SDSS-DR12_name</th>\n",
       "      <th>flag1</th>\n",
       "      <th>RA</th>\n",
       "      <th>dec</th>\n",
       "      <th>dist</th>\n",
       "      <th>dist_err</th>\n",
       "      <th>...</th>\n",
       "      <th>z_cosmo_or</th>\n",
       "      <th>group_correction</th>\n",
       "      <th>z_cosmo_corr</th>\n",
       "      <th>Delta_z</th>\n",
       "      <th>z_lowerbound</th>\n",
       "      <th>z_lower</th>\n",
       "      <th>z_upper</th>\n",
       "      <th>z_upperbound</th>\n",
       "      <th>B_Lum</th>\n",
       "      <th>K_Lum</th>\n",
       "    </tr>\n",
       "  </thead>\n",
       "  <tbody>\n",
       "    <tr>\n",
       "      <td>2086034</td>\n",
       "      <td>45657.0</td>\n",
       "      <td>NGC4993</td>\n",
       "      <td>NGC4993</td>\n",
       "      <td>13094770-2323017</td>\n",
       "      <td>NaN</td>\n",
       "      <td>G</td>\n",
       "      <td>197.448776</td>\n",
       "      <td>-23.383831</td>\n",
       "      <td>41.776044</td>\n",
       "      <td>NaN</td>\n",
       "      <td>...</td>\n",
       "      <td>0.00968</td>\n",
       "      <td>1</td>\n",
       "      <td>0.011026</td>\n",
       "      <td>0.00015</td>\n",
       "      <td>0.010576</td>\n",
       "      <td>0.010876</td>\n",
       "      <td>0.011176</td>\n",
       "      <td>0.011476</td>\n",
       "      <td>1.954709</td>\n",
       "      <td>8.548348</td>\n",
       "    </tr>\n",
       "  </tbody>\n",
       "</table>\n",
       "<p>1 rows × 30 columns</p>\n",
       "</div>"
      ],
      "text/plain": [
       "             PGC GWGC name HyperLEDA_name        2MASS_name SDSS-DR12_name  \\\n",
       "2086034  45657.0   NGC4993        NGC4993  13094770-2323017            NaN   \n",
       "\n",
       "        flag1          RA        dec       dist  dist_err  ...  z_cosmo_or  \\\n",
       "2086034     G  197.448776 -23.383831  41.776044       NaN  ...     0.00968   \n",
       "\n",
       "         group_correction  z_cosmo_corr  Delta_z  z_lowerbound   z_lower  \\\n",
       "2086034                 1      0.011026  0.00015      0.010576  0.010876   \n",
       "\n",
       "          z_upper  z_upperbound     B_Lum     K_Lum  \n",
       "2086034  0.011176      0.011476  1.954709  8.548348  \n",
       "\n",
       "[1 rows x 30 columns]"
      ]
     },
     "execution_count": 39,
     "metadata": {},
     "output_type": "execute_result"
    }
   ],
   "source": [
    "# This is NGC4993 (host of GW170817) \n",
    "NGC4993 = GWGal_GLADE.galCat.cat[GWGal_GLADE.galCat.cat['GWGC name']=='NGC4993']\n",
    "NGC4993"
   ]
  },
  {
   "cell_type": "code",
   "execution_count": 40,
   "metadata": {},
   "outputs": [
    {
     "data": {
      "text/html": [
       "<div>\n",
       "<style scoped>\n",
       "    .dataframe tbody tr th:only-of-type {\n",
       "        vertical-align: middle;\n",
       "    }\n",
       "\n",
       "    .dataframe tbody tr th {\n",
       "        vertical-align: top;\n",
       "    }\n",
       "\n",
       "    .dataframe thead th {\n",
       "        text-align: right;\n",
       "    }\n",
       "</style>\n",
       "<table border=\"1\" class=\"dataframe\">\n",
       "  <thead>\n",
       "    <tr style=\"text-align: right;\">\n",
       "      <th></th>\n",
       "      <th>PGC</th>\n",
       "      <th>RA</th>\n",
       "      <th>dec</th>\n",
       "      <th>dist</th>\n",
       "      <th>dist_err</th>\n",
       "      <th>z</th>\n",
       "      <th>B_err</th>\n",
       "      <th>J</th>\n",
       "      <th>J_err</th>\n",
       "      <th>H</th>\n",
       "      <th>...</th>\n",
       "      <th>z_cosmo_or</th>\n",
       "      <th>group_correction</th>\n",
       "      <th>z_cosmo_corr</th>\n",
       "      <th>Delta_z</th>\n",
       "      <th>z_lowerbound</th>\n",
       "      <th>z_lower</th>\n",
       "      <th>z_upper</th>\n",
       "      <th>z_upperbound</th>\n",
       "      <th>B_Lum</th>\n",
       "      <th>K_Lum</th>\n",
       "    </tr>\n",
       "  </thead>\n",
       "  <tbody>\n",
       "    <tr>\n",
       "      <td>count</td>\n",
       "      <td>5.176700e+04</td>\n",
       "      <td>2.720966e+06</td>\n",
       "      <td>2.720966e+06</td>\n",
       "      <td>2.720966e+06</td>\n",
       "      <td>2.00000</td>\n",
       "      <td>2.720966e+06</td>\n",
       "      <td>735517.000000</td>\n",
       "      <td>987830.000000</td>\n",
       "      <td>987823.000000</td>\n",
       "      <td>972162.000000</td>\n",
       "      <td>...</td>\n",
       "      <td>2.720966e+06</td>\n",
       "      <td>2.720966e+06</td>\n",
       "      <td>2.720966e+06</td>\n",
       "      <td>2.720966e+06</td>\n",
       "      <td>2.720966e+06</td>\n",
       "      <td>2.720966e+06</td>\n",
       "      <td>2.720966e+06</td>\n",
       "      <td>2.720966e+06</td>\n",
       "      <td>1.612505e+06</td>\n",
       "      <td>9.916960e+05</td>\n",
       "    </tr>\n",
       "    <tr>\n",
       "      <td>mean</td>\n",
       "      <td>9.763927e+05</td>\n",
       "      <td>1.752218e+02</td>\n",
       "      <td>1.089782e+01</td>\n",
       "      <td>2.786936e+03</td>\n",
       "      <td>10.19600</td>\n",
       "      <td>3.992778e-01</td>\n",
       "      <td>0.458082</td>\n",
       "      <td>14.530476</td>\n",
       "      <td>0.080893</td>\n",
       "      <td>13.774386</td>\n",
       "      <td>...</td>\n",
       "      <td>3.992618e-01</td>\n",
       "      <td>4.931337e-03</td>\n",
       "      <td>3.994011e-01</td>\n",
       "      <td>1.357461e-02</td>\n",
       "      <td>3.595810e-01</td>\n",
       "      <td>3.859715e-01</td>\n",
       "      <td>4.129757e-01</td>\n",
       "      <td>4.401250e-01</td>\n",
       "      <td>3.403998e+00</td>\n",
       "      <td>2.047912e+01</td>\n",
       "    </tr>\n",
       "    <tr>\n",
       "      <td>std</td>\n",
       "      <td>1.447502e+06</td>\n",
       "      <td>9.740466e+01</td>\n",
       "      <td>3.115992e+01</td>\n",
       "      <td>5.838338e+03</td>\n",
       "      <td>14.41225</td>\n",
       "      <td>6.763242e-01</td>\n",
       "      <td>0.088678</td>\n",
       "      <td>0.816406</td>\n",
       "      <td>0.035547</td>\n",
       "      <td>0.813428</td>\n",
       "      <td>...</td>\n",
       "      <td>6.761885e-01</td>\n",
       "      <td>7.005013e-02</td>\n",
       "      <td>6.762335e-01</td>\n",
       "      <td>4.374398e-03</td>\n",
       "      <td>6.737946e-01</td>\n",
       "      <td>6.754763e-01</td>\n",
       "      <td>6.769359e-01</td>\n",
       "      <td>6.784231e-01</td>\n",
       "      <td>1.260148e+02</td>\n",
       "      <td>1.158056e+02</td>\n",
       "    </tr>\n",
       "    <tr>\n",
       "      <td>min</td>\n",
       "      <td>2.000000e+00</td>\n",
       "      <td>4.500000e-04</td>\n",
       "      <td>-8.987641e+01</td>\n",
       "      <td>0.000000e+00</td>\n",
       "      <td>0.00500</td>\n",
       "      <td>-5.500000e-04</td>\n",
       "      <td>0.020000</td>\n",
       "      <td>4.874000</td>\n",
       "      <td>0.001000</td>\n",
       "      <td>4.143000</td>\n",
       "      <td>...</td>\n",
       "      <td>0.000000e+00</td>\n",
       "      <td>0.000000e+00</td>\n",
       "      <td>-1.995272e-03</td>\n",
       "      <td>1.500000e-04</td>\n",
       "      <td>0.000000e+00</td>\n",
       "      <td>-9.976359e-04</td>\n",
       "      <td>-7.844628e-04</td>\n",
       "      <td>-4.844628e-04</td>\n",
       "      <td>6.774010e-11</td>\n",
       "      <td>2.202145e-10</td>\n",
       "    </tr>\n",
       "    <tr>\n",
       "      <td>25%</td>\n",
       "      <td>3.521450e+04</td>\n",
       "      <td>1.188881e+02</td>\n",
       "      <td>-3.675922e+00</td>\n",
       "      <td>3.602361e+02</td>\n",
       "      <td>5.10050</td>\n",
       "      <td>7.923400e-02</td>\n",
       "      <td>0.400000</td>\n",
       "      <td>14.187000</td>\n",
       "      <td>0.059000</td>\n",
       "      <td>13.441000</td>\n",
       "      <td>...</td>\n",
       "      <td>7.923372e-02</td>\n",
       "      <td>0.000000e+00</td>\n",
       "      <td>7.937598e-02</td>\n",
       "      <td>1.500000e-02</td>\n",
       "      <td>4.214642e-02</td>\n",
       "      <td>6.679816e-02</td>\n",
       "      <td>9.239669e-02</td>\n",
       "      <td>1.197862e-01</td>\n",
       "      <td>1.304512e+00</td>\n",
       "      <td>7.271905e+00</td>\n",
       "    </tr>\n",
       "    <tr>\n",
       "      <td>50%</td>\n",
       "      <td>7.144100e+04</td>\n",
       "      <td>1.777020e+02</td>\n",
       "      <td>1.222648e+01</td>\n",
       "      <td>6.918310e+02</td>\n",
       "      <td>10.19600</td>\n",
       "      <td>1.454530e-01</td>\n",
       "      <td>0.500000</td>\n",
       "      <td>14.714000</td>\n",
       "      <td>0.077000</td>\n",
       "      <td>13.971000</td>\n",
       "      <td>...</td>\n",
       "      <td>1.454520e-01</td>\n",
       "      <td>0.000000e+00</td>\n",
       "      <td>1.454872e-01</td>\n",
       "      <td>1.500000e-02</td>\n",
       "      <td>1.059198e-01</td>\n",
       "      <td>1.318664e-01</td>\n",
       "      <td>1.594863e-01</td>\n",
       "      <td>1.883344e-01</td>\n",
       "      <td>2.462199e+00</td>\n",
       "      <td>1.321863e+01</td>\n",
       "    </tr>\n",
       "    <tr>\n",
       "      <td>75%</td>\n",
       "      <td>1.463626e+06</td>\n",
       "      <td>2.329180e+02</td>\n",
       "      <td>3.282669e+01</td>\n",
       "      <td>2.070140e+03</td>\n",
       "      <td>15.29150</td>\n",
       "      <td>3.813174e-01</td>\n",
       "      <td>0.500000</td>\n",
       "      <td>15.058000</td>\n",
       "      <td>0.099000</td>\n",
       "      <td>14.302000</td>\n",
       "      <td>...</td>\n",
       "      <td>3.813097e-01</td>\n",
       "      <td>0.000000e+00</td>\n",
       "      <td>3.819648e-01</td>\n",
       "      <td>1.500000e-02</td>\n",
       "      <td>3.369684e-01</td>\n",
       "      <td>3.669660e-01</td>\n",
       "      <td>3.969647e-01</td>\n",
       "      <td>4.269642e-01</td>\n",
       "      <td>3.915412e+00</td>\n",
       "      <td>2.359712e+01</td>\n",
       "    </tr>\n",
       "    <tr>\n",
       "      <td>max</td>\n",
       "      <td>4.715229e+06</td>\n",
       "      <td>3.600000e+02</td>\n",
       "      <td>8.977647e+01</td>\n",
       "      <td>6.546360e+04</td>\n",
       "      <td>20.38700</td>\n",
       "      <td>6.485116e+00</td>\n",
       "      <td>7.140000</td>\n",
       "      <td>80.379000</td>\n",
       "      <td>9.900000</td>\n",
       "      <td>99.000000</td>\n",
       "      <td>...</td>\n",
       "      <td>6.482787e+00</td>\n",
       "      <td>1.000000e+00</td>\n",
       "      <td>6.483668e+00</td>\n",
       "      <td>1.500000e-02</td>\n",
       "      <td>6.438668e+00</td>\n",
       "      <td>6.468668e+00</td>\n",
       "      <td>6.498668e+00</td>\n",
       "      <td>6.528668e+00</td>\n",
       "      <td>1.017018e+05</td>\n",
       "      <td>2.923253e+04</td>\n",
       "    </tr>\n",
       "  </tbody>\n",
       "</table>\n",
       "<p>8 rows × 25 columns</p>\n",
       "</div>"
      ],
      "text/plain": [
       "                PGC            RA           dec          dist  dist_err  \\\n",
       "count  5.176700e+04  2.720966e+06  2.720966e+06  2.720966e+06   2.00000   \n",
       "mean   9.763927e+05  1.752218e+02  1.089782e+01  2.786936e+03  10.19600   \n",
       "std    1.447502e+06  9.740466e+01  3.115992e+01  5.838338e+03  14.41225   \n",
       "min    2.000000e+00  4.500000e-04 -8.987641e+01  0.000000e+00   0.00500   \n",
       "25%    3.521450e+04  1.188881e+02 -3.675922e+00  3.602361e+02   5.10050   \n",
       "50%    7.144100e+04  1.777020e+02  1.222648e+01  6.918310e+02  10.19600   \n",
       "75%    1.463626e+06  2.329180e+02  3.282669e+01  2.070140e+03  15.29150   \n",
       "max    4.715229e+06  3.600000e+02  8.977647e+01  6.546360e+04  20.38700   \n",
       "\n",
       "                  z          B_err              J          J_err  \\\n",
       "count  2.720966e+06  735517.000000  987830.000000  987823.000000   \n",
       "mean   3.992778e-01       0.458082      14.530476       0.080893   \n",
       "std    6.763242e-01       0.088678       0.816406       0.035547   \n",
       "min   -5.500000e-04       0.020000       4.874000       0.001000   \n",
       "25%    7.923400e-02       0.400000      14.187000       0.059000   \n",
       "50%    1.454530e-01       0.500000      14.714000       0.077000   \n",
       "75%    3.813174e-01       0.500000      15.058000       0.099000   \n",
       "max    6.485116e+00       7.140000      80.379000       9.900000   \n",
       "\n",
       "                   H  ...    z_cosmo_or  group_correction  z_cosmo_corr  \\\n",
       "count  972162.000000  ...  2.720966e+06      2.720966e+06  2.720966e+06   \n",
       "mean       13.774386  ...  3.992618e-01      4.931337e-03  3.994011e-01   \n",
       "std         0.813428  ...  6.761885e-01      7.005013e-02  6.762335e-01   \n",
       "min         4.143000  ...  0.000000e+00      0.000000e+00 -1.995272e-03   \n",
       "25%        13.441000  ...  7.923372e-02      0.000000e+00  7.937598e-02   \n",
       "50%        13.971000  ...  1.454520e-01      0.000000e+00  1.454872e-01   \n",
       "75%        14.302000  ...  3.813097e-01      0.000000e+00  3.819648e-01   \n",
       "max        99.000000  ...  6.482787e+00      1.000000e+00  6.483668e+00   \n",
       "\n",
       "            Delta_z  z_lowerbound       z_lower       z_upper  z_upperbound  \\\n",
       "count  2.720966e+06  2.720966e+06  2.720966e+06  2.720966e+06  2.720966e+06   \n",
       "mean   1.357461e-02  3.595810e-01  3.859715e-01  4.129757e-01  4.401250e-01   \n",
       "std    4.374398e-03  6.737946e-01  6.754763e-01  6.769359e-01  6.784231e-01   \n",
       "min    1.500000e-04  0.000000e+00 -9.976359e-04 -7.844628e-04 -4.844628e-04   \n",
       "25%    1.500000e-02  4.214642e-02  6.679816e-02  9.239669e-02  1.197862e-01   \n",
       "50%    1.500000e-02  1.059198e-01  1.318664e-01  1.594863e-01  1.883344e-01   \n",
       "75%    1.500000e-02  3.369684e-01  3.669660e-01  3.969647e-01  4.269642e-01   \n",
       "max    1.500000e-02  6.438668e+00  6.468668e+00  6.498668e+00  6.528668e+00   \n",
       "\n",
       "              B_Lum         K_Lum  \n",
       "count  1.612505e+06  9.916960e+05  \n",
       "mean   3.403998e+00  2.047912e+01  \n",
       "std    1.260148e+02  1.158056e+02  \n",
       "min    6.774010e-11  2.202145e-10  \n",
       "25%    1.304512e+00  7.271905e+00  \n",
       "50%    2.462199e+00  1.321863e+01  \n",
       "75%    3.915412e+00  2.359712e+01  \n",
       "max    1.017018e+05  2.923253e+04  \n",
       "\n",
       "[8 rows x 25 columns]"
      ]
     },
     "execution_count": 40,
     "metadata": {},
     "output_type": "execute_result"
    }
   ],
   "source": [
    "# Statistics\n",
    "GWGal_GLADE.galCat.cat.describe()"
   ]
  },
  {
   "cell_type": "markdown",
   "metadata": {},
   "source": [
    "## EXAMPLES"
   ]
  },
  {
   "cell_type": "markdown",
   "metadata": {},
   "source": [
    "#### 1. Find galaxies inside the 99% credible region\n",
    "\n",
    "The function GWGal_GLADE.find_gal allows to find and plot GLADE galaxies inside the credible region of specified probability"
   ]
  },
  {
   "cell_type": "code",
   "execution_count": 41,
   "metadata": {},
   "outputs": [],
   "source": [
    "# Specify the event of interest, \n",
    "# n. of standard deviations for the luminosity distance value, \n",
    "# and confidence level for the angular part\n",
    "event_name='GW170817' \n",
    "std_number=3.\n",
    "level=0.99"
   ]
  },
  {
   "cell_type": "code",
   "execution_count": 42,
   "metadata": {},
   "outputs": [
    {
     "name": "stdout",
     "output_type": "stream",
     "text": [
      "\n",
      " Computing range in redshift for all priors...\n",
      "Using H0=220.0 km / (Mpc s)\n",
      "Position: 38.03408225450563 +7.499686641911211 -7.499686641911211\n",
      "lower limit to search: d_L = 15.535022328771994 Mpc, z=0.011298794026695699\n",
      "upper limit to search:d_L = 60.53314218023926 Mpc, z=0.04296949596717247\n",
      "Using H0=10.0 km / (Mpc s)\n",
      "Position: 38.03408225450563 +7.499686641911211 -7.499686641911211\n",
      "lower limit to search: d_L = 15.535022328771994 Mpc, z=0.0005179786314693549\n",
      "upper limit to search:d_L = 60.53314218023926 Mpc, z=0.002015929356290118\n",
      "Using z_min, z_max with key GW170817header3.0\n",
      " z_min, z_max = 0.0005179786314693549, 0.04296949596717247\n",
      "(0.0005179786314693549, 0.04296949596717247)\n"
     ]
    }
   ],
   "source": [
    "# Compure max and min redshifts compatible with prior range and luminosity distance values. \n",
    "# If position_val='header' , the luminosisty distance mean and std are taken from the skymap header\n",
    "# Specify a non null value of H0 to use the H0 prior range (default is Xi_0). \n",
    "# This value will not be relevant for the computation\n",
    "\n",
    "(z_min, z_max) = GWGal_GLADE._get_z_range( event_name, std_number=std_number, H0=70, \n",
    "        Verbose=True, position_val='header') #GWGal_GLADE.z_min[event_name+'header'], GWGal_GLADE.z_max[event_name+'header'] \n",
    "print((z_min, z_max))"
   ]
  },
  {
   "cell_type": "code",
   "execution_count": 43,
   "metadata": {},
   "outputs": [
    {
     "name": "stdout",
     "output_type": "stream",
     "text": [
      "GW170817 - Finding galaxies inside 99% probability region and in the redshift range [0.0005179786314693549 , 0.04296949596717247]\n",
      "243 galaxies found \n",
      "Interpolating contours...\n"
     ]
    },
    {
     "data": {
      "image/png": "[encoded data removed]",
      "text/plain": [
       "<Figure size 576x576 with 2 Axes>"
      ]
     },
     "metadata": {
      "needs_background": "light"
     },
     "output_type": "display_data"
    }
   ],
   "source": [
    "inside_gal_df, _ = GWGal_GLADE.find_gal(\n",
    "                                            event_name='GW170817', \n",
    "                                            use_credible_regions=True, \n",
    "                                            level=level, \n",
    "                                            minmax_z =  (z_min, z_max), \n",
    "                                            plot=True, get_contours=True, \n",
    "                                            Verbose=True, band='B', L_star_frac=0., \n",
    "                                            )"
   ]
  },
  {
   "cell_type": "markdown",
   "metadata": {},
   "source": [
    "## POSTERIOR FOR H0\n",
    "\n",
    "Here we compute the posterior for H0. \n",
    "This is done by the function GWGal_GLADE.posterior . It takes a value of H0 as input and returns likelihood and beta for that value. So, we define a grid of values of H0 and call GWGal_GLADE.posterior  with a for loop\n",
    "\n",
    "Relevant parameters:\n",
    "\n",
    "    - complete=False does not apply completion (best to use this so far)\n",
    "    - beta_scheme can be :\n",
    "            * 'cat', in which case the beta is computed from the catalogue. \n",
    "            * 'uniform', in which case the beta is computed from the uniform distribution\n",
    "    - band: 'B' or 'K', the band to use in the selection and weighting\n",
    "    - L_star_frac: list of floats. Thresholds in luminosity \n",
    "    - position_val: use 'header' !\n",
    "    - lum_weighting : True or False. Whether to apply luminosity weighting when computing the likelihood\n",
    "    - z_err: Include  error on redshifts \n",
    "    \n",
    "    \n",
    "Output: a np array of dimension (  5, n_GW_events)\n",
    "\n",
    "Rows: \n",
    "* 0 : Likelihood - catalogue part\n",
    "* 1 : Likelihood - completion part\n",
    "* 2 : beta - catalogue part\n",
    "* 3 : beta - completion part\n",
    "* 4 : prior"
   ]
  },
  {
   "cell_type": "code",
   "execution_count": 44,
   "metadata": {},
   "outputs": [],
   "source": [
    "# Grid of H0 values\n",
    "H0grid= np.linspace(PRIOR_LOW_H0,PRIOR_UP_H0, 100 )"
   ]
  },
  {
   "cell_type": "code",
   "execution_count": 45,
   "metadata": {},
   "outputs": [],
   "source": [
    "level=0.99\n",
    "std_number=3.\n"
   ]
  },
  {
   "cell_type": "code",
   "execution_count": 49,
   "metadata": {},
   "outputs": [
    {
     "name": "stdout",
     "output_type": "stream",
     "text": [
      "0.6\n",
      "Using df_ind: GW170817credible_regionheader0.993.0\n",
      "GW170817 - Finding galaxies inside 99% probability region and in the redshift range [0.0005179786314693549 , 0.04296949596717247]\n",
      "243 galaxies found \n",
      "GW170817 - 82 galaxies found with B lum >0.6 L* \n",
      "Not completing\n",
      "- Computing likelihood for catalogue part for GW170817 and search method=credible_region....\n",
      "Convolving with redshift error\n",
      "- Done for GW170817 . \n",
      "\n",
      "CPU times: user 3min 34s, sys: 18.9 s, total: 3min 53s\n",
      "Wall time: 3min 49s\n"
     ]
    }
   ],
   "source": [
    "%%time\n",
    "log_post_grid = {}\n",
    "ks=(0.6,) # THRESHOLDS IN LUMINOSITY\n",
    "\n",
    "\n",
    "for k in ks:\n",
    "    print(k)\n",
    "    log_post_grid[str(k)]  = np.array([GWGal_GLADE.posterior( H0=H0i, \n",
    "                                                             search_method = 'credible_region',  \n",
    "                                                             level=level, std_number=std_number,\n",
    "                                                            complete=False, \n",
    "                                                            Verbose=False, beta_scheme='cat', \n",
    "                                                            band='B', L_star_frac=k, position_val='header' ,\n",
    "                                                            lum_weighting=False, z_err=True) \n",
    "                          for H0i in H0grid])"
   ]
  },
  {
   "cell_type": "code",
   "execution_count": 50,
   "metadata": {},
   "outputs": [
    {
     "name": "stdout",
     "output_type": "stream",
     "text": [
      "dict_keys(['0.6'])\n"
     ]
    }
   ],
   "source": [
    "# I stored the result in a dictionary with keys equal to the luminosity threshold.\n",
    "print(log_post_grid.keys())\n"
   ]
  },
  {
   "cell_type": "code",
   "execution_count": 53,
   "metadata": {},
   "outputs": [
    {
     "data": {
      "text/plain": [
       "(100, 5, 1)"
      ]
     },
     "execution_count": 53,
     "metadata": {},
     "output_type": "execute_result"
    }
   ],
   "source": [
    "# Each value is a np array of shape (n_points_H0 , 5, n_GW_events)\n",
    "# The 5 are the 5 rows of the output of posterior, described above\n",
    "log_post_grid['0.6'].shape"
   ]
  },
  {
   "cell_type": "code",
   "execution_count": 54,
   "metadata": {},
   "outputs": [],
   "source": [
    "# Now extract likelihood, beta for each cut in luminosity\n",
    "\n",
    "def get_grids(log_post_grid):\n",
    "    \n",
    "    GWgal_L_cat = log_post_grid[:,0, :]\n",
    "    GWgal_L_miss = log_post_grid[:,1, :]\n",
    "    betas_cat = log_post_grid[:,2, :]\n",
    "    betas_miss = log_post_grid[:,3, :]\n",
    "    prior_grid = log_post_grid[:,4, :]\n",
    "    return GWgal_L_cat, GWgal_L_miss, betas_cat, betas_miss, prior_grid\n",
    "\n",
    "GWgal_L_cat = {}\n",
    "GWgal_L_miss = {}\n",
    "betas_cat = {}\n",
    "betas_miss = {}\n",
    "prior_grid = {}\n",
    "\n",
    "\n",
    "for k in ks:\n",
    "    GWgal_L_cat[str(k)], GWgal_L_miss[str(k)], betas_cat[str(k)],betas_miss[str(k)], prior_grid[str(k)] = get_grids(log_post_grid[str(k)])"
   ]
  },
  {
   "cell_type": "markdown",
   "metadata": {},
   "source": [
    "Plot the result"
   ]
  },
  {
   "cell_type": "code",
   "execution_count": 55,
   "metadata": {},
   "outputs": [],
   "source": [
    "def plot_post(points_grid, GWgal_L_cat, GWgal_L_miss, betas_cat, betas_miss, prior_grid, GWgal, param_name='H0'):\n",
    "\n",
    "    import matplotlib.pyplot as plt      \n",
    "    names=[e for e in GWgal.GWevents.keys()]\n",
    "    fig, ax = plt.subplots(1, figsize=(10,8))\n",
    "    grids = {str(k): np.empty(GWgal_L_cat[str(ks[0])].shape) for k in ks}\n",
    "    norms = {str(k):np.empty(GWgal_L_cat[str(ks[0])].shape[1]) for k in ks}\n",
    "    for k in ks:\n",
    "        grids[str(k)]=[]\n",
    "        for i in range(GWgal_L_cat[str(k)].shape[1]):\n",
    "            grid_miss = ((GWgal_L_miss[str(k)][:,i])/(betas_cat[str(k)][:,i]+betas_miss[str(k)][:,i]))*prior_grid[str(k)][:,i]\n",
    "            grid_cat = ((GWgal_L_cat[str(k)][:,i])/(betas_cat[str(k)][:,i]+betas_miss[str(k)][:,i]))*prior_grid[str(k)][:,i]\n",
    "            grid=grid_miss+grid_cat\n",
    "        \n",
    "            # Normalize to 1\n",
    "            norm = np.trapz(grid, points_grid) \n",
    "            try:\n",
    "                grids[str(k)][:,i] = grid\n",
    "                norms[str(k)][:,i] = norm\n",
    "            except TypeError:\n",
    "                grids[str(k)][:] = grid\n",
    "                norms[str(k)][:]=norm\n",
    "        \n",
    "            ax.plot(points_grid, grid/norm, label= names[i]+r' $L>%s L_*$' %k)\n",
    "    ax.plot(points_grid, prior_grid[str(k)], label= 'prior', ls='--', color='b', alpha=0.3)\n",
    "    #ax.plot(H0grid, full_post, label= 'Counterpart', ls='-.')        \n",
    "    \n",
    "\n",
    "    #ax.set_ylim(0, 0.01)\n",
    "    if param_name=='H0':\n",
    "        x_max_plt = PRIOR_UP_H0\n",
    "        x_min_plt = PRIOR_LOW_H0\n",
    "    else:\n",
    "        x_max_plt = PRIOR_UP\n",
    "        x_min_plt = PRIOR_LOW\n",
    "    ax.set_xlim(x_min_plt,x_max_plt)\n",
    "    ax.set_xlabel(param_name, fontsize=20)\n",
    "    ax.set_ylabel(r'$p(%s)$' %param_name, fontsize=20);\n",
    "    ax.legend(fontsize=14);\n",
    "    #ax.set_yscale('log')\n",
    "    \n",
    "    return fig, ax"
   ]
  },
  {
   "cell_type": "code",
   "execution_count": 56,
   "metadata": {},
   "outputs": [
    {
     "data": {
      "text/plain": [
       "(<Figure size 720x576 with 1 Axes>,\n",
       " <matplotlib.axes._subplots.AxesSubplot at 0x1218bd0f0>)"
      ]
     },
     "execution_count": 56,
     "metadata": {},
     "output_type": "execute_result"
    },
    {
     "data": {
      "image/png": "[encoded data removed]",
      "text/plain": [
       "<Figure size 720x576 with 1 Axes>"
      ]
     },
     "metadata": {
      "needs_background": "light"
     },
     "output_type": "display_data"
    }
   ],
   "source": [
    "plot_post(H0grid, GWgal_L_cat, GWgal_L_miss, betas_cat, betas_miss, prior_grid, GWGal_GLADE, param_name='H0')"
   ]
  },
  {
   "cell_type": "markdown",
   "metadata": {},
   "source": [
    "You can now have fun with other GW events (just change the name when loading the GW data ! ), or combining more than 1 (enter a list of event names)"
   ]
  },
  {
   "cell_type": "markdown",
   "metadata": {},
   "source": [
    "## EXTRAS"
   ]
  },
  {
   "cell_type": "markdown",
   "metadata": {},
   "source": [
    "#### Plot the beta for all luminosity cuts"
   ]
  },
  {
   "cell_type": "code",
   "execution_count": 57,
   "metadata": {},
   "outputs": [
    {
     "data": {
      "text/plain": [
       "<matplotlib.legend.Legend at 0x17bbda438>"
      ]
     },
     "execution_count": 57,
     "metadata": {},
     "output_type": "execute_result"
    },
    {
     "data": {
      "image/png": "[encoded data removed]",
      "text/plain": [
       "<Figure size 864x432 with 1 Axes>"
      ]
     },
     "metadata": {
      "needs_background": "light"
     },
     "output_type": "display_data"
    }
   ],
   "source": [
    "\n",
    "import matplotlib.pyplot as plt   \n",
    "grids={}\n",
    "names=[e for e in GWGal_GLADE.GWevents.keys()]\n",
    "fig, ax = plt.subplots(1, figsize=(12,6))\n",
    "for k in ks:\n",
    "    grids[str(k)]=[]\n",
    "    for i in range(GWgal_L_cat[str(k)].shape[1]):\n",
    "        grid_b = betas_cat[str(k)][:,i]#+betas_miss[str(k)][:,i]\n",
    "        ax.plot(H0grid, grid_b, label= 'beta'+str(k))\n",
    "        \n",
    "    \n",
    "#ax.set_ylim(0, 0.008)\n",
    "ax.set_xlim(10,PRIOR_UP_H0)\n",
    "ax.set_xlabel(r'$H_0$', fontsize=20)\n",
    "ax.set_ylabel(r'$\\beta(H_0)$', fontsize=20);\n",
    "ax.legend(fontsize=14)\n",
    "#ax.set_yscale('log')"
   ]
  },
  {
   "cell_type": "markdown",
   "metadata": {},
   "source": [
    "### XI0\n",
    "\n",
    "Note: one shoould re-instantiate a GWGal_GLADE object before computing posterior for Xi0. Here I don't do it to save space, but in this case the galaxies used will be those in the redshift range computed for H0 and not for Xi0 \n"
   ]
  },
  {
   "cell_type": "code",
   "execution_count": 59,
   "metadata": {},
   "outputs": [
    {
     "name": "stdout",
     "output_type": "stream",
     "text": [
      "0.6\n",
      "GW170817 - 82 galaxies found with B lum >0.6 L* \n",
      "Not completing\n",
      "- Computing likelihood for catalogue part for GW170817 and search method=credible_region....\n",
      "Convolving with redshift error\n",
      "- Done for GW170817 . \n",
      "\n",
      "CPU times: user 3min 35s, sys: 19.1 s, total: 3min 54s\n",
      "Wall time: 3min 49s\n"
     ]
    }
   ],
   "source": [
    "%%time\n",
    "Xi0grid= np.linspace(PRIOR_LOW,PRIOR_UP, 100 )\n",
    "\n",
    "log_post_grid_XI0 = {}\n",
    "ks=(0.6, ) # THRESHOLDS IN LUMINOSITY\n",
    "\n",
    "\n",
    "for k in ks:\n",
    "    print(k)\n",
    "    log_post_grid_XI0[str(k)]  = np.array([GWGal_GLADE.posterior( Xi0=Xi0i, \n",
    "                                                             search_method = 'credible_region',  \n",
    "                                                             level=level, std_number=std_number,\n",
    "                                                            complete=False, \n",
    "                                                            Verbose=False, beta_scheme='cat', \n",
    "                                                            band='B', L_star_frac=k, position_val='header' ,\n",
    "                                                            lum_weighting=False, z_err=True) \n",
    "                          for Xi0i in Xi0grid])"
   ]
  },
  {
   "cell_type": "code",
   "execution_count": 60,
   "metadata": {},
   "outputs": [],
   "source": [
    "GWgal_L_cat_Xi0 = {}\n",
    "GWgal_L_miss_Xi0 = {}\n",
    "betas_cat_Xi0 = {}\n",
    "betas_miss_Xi0 = {}\n",
    "prior_grid_Xi0 = {}\n",
    "\n",
    "\n",
    "for k in ks:\n",
    "    GWgal_L_cat_Xi0[str(k)], GWgal_L_miss_Xi0[str(k)], betas_cat_Xi0[str(k)],betas_miss_Xi0[str(k)], prior_grid_Xi0[str(k)] = get_grids(log_post_grid_XI0[str(k)])"
   ]
  },
  {
   "cell_type": "code",
   "execution_count": 61,
   "metadata": {},
   "outputs": [
    {
     "data": {
      "text/plain": [
       "(<Figure size 720x576 with 1 Axes>,\n",
       " <matplotlib.axes._subplots.AxesSubplot at 0x1373d87f0>)"
      ]
     },
     "execution_count": 61,
     "metadata": {},
     "output_type": "execute_result"
    },
    {
     "data": {
      "image/png": "[encoded data removed]",
      "text/plain": [
       "<Figure size 720x576 with 1 Axes>"
      ]
     },
     "metadata": {
      "needs_background": "light"
     },
     "output_type": "display_data"
    }
   ],
   "source": [
    "plot_post(Xi0grid, GWgal_L_cat_Xi0, GWgal_L_miss_Xi0, betas_cat_Xi0, betas_miss_Xi0, prior_grid_Xi0, GWGal_GLADE, param_name='Xi_0')\n"
   ]
  },
  {
   "cell_type": "code",
   "execution_count": null,
   "metadata": {},
   "outputs": [],
   "source": []
  }
 ],
 "metadata": {
  "kernelspec": {
   "display_name": "Python 3",
   "language": "python",
   "name": "python3"
  },
  "language_info": {
   "codemirror_mode": {
    "name": "ipython",
    "version": 3
   },
   "file_extension": ".py",
   "mimetype": "text/x-python",
   "name": "python",
   "nbconvert_exporter": "python",
   "pygments_lexer": "ipython3",
   "version": "3.7.3"
  }
 },
 "nbformat": 4,
 "nbformat_minor": 4
}
