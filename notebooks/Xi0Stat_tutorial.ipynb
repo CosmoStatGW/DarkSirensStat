{
 "cells": [
  {
   "cell_type": "markdown",
   "metadata": {},
   "source": [
    "# Xi0Stat Tutorial"
   ]
  },
  {
   "cell_type": "markdown",
   "metadata": {},
   "source": [
    "## Setup"
   ]
  },
  {
   "cell_type": "code",
   "execution_count": 2,
   "metadata": {},
   "outputs": [
    {
     "data": {
      "application/javascript": [
       "IPython.OutputArea.prototype._should_scroll = function(lines) {\n",
       "    return false;\n",
       "}\n"
      ],
      "text/plain": [
       "<IPython.core.display.Javascript object>"
      ]
     },
     "metadata": {},
     "output_type": "display_data"
    }
   ],
   "source": [
    "%%javascript\n",
    "IPython.OutputArea.prototype._should_scroll = function(lines) {\n",
    "    return false;\n",
    "}"
   ]
  },
  {
   "cell_type": "code",
   "execution_count": 3,
   "metadata": {},
   "outputs": [],
   "source": [
    "import numpy as np\n",
    "import matplotlib.pyplot as plt\n",
    "import scipy.stats\n",
    "from astropy.cosmology import FlatLambdaCDM"
   ]
  },
  {
   "cell_type": "code",
   "execution_count": 4,
   "metadata": {},
   "outputs": [
    {
     "name": "stdout",
     "output_type": "stream",
     "text": [
      "/Users/af/Work/Cosmo/codes/Xi0Stat\n"
     ]
    }
   ],
   "source": [
    "%cd ../"
   ]
  },
  {
   "cell_type": "code",
   "execution_count": 5,
   "metadata": {},
   "outputs": [],
   "source": [
    "from Xi0Stat.globals import * \n",
    "from Xi0Stat.GW import get_all_events\n",
    "from Xi0Stat.GLADE import GLADE\n",
    "from Xi0Stat.GWENS import GWENS\n",
    "from Xi0Stat.SYNTH import SYNTH\n",
    "from Xi0Stat.completeness import *\n",
    "from Xi0Stat.galCat import GalCompleted\n",
    "from Xi0Stat.GWgal import GWgal\n",
    "from Xi0Stat.betaHom import BetaHom"
   ]
  },
  {
   "cell_type": "code",
   "execution_count": 6,
   "metadata": {},
   "outputs": [],
   "source": [
    "%load_ext autoreload\n",
    "%autoreload 2"
   ]
  },
  {
   "cell_type": "markdown",
   "metadata": {},
   "source": [
    "## GW\n",
    "\n",
    "This module is based on the object Skymap3D. This contains the GW skymap for a single GW event denoted by its name - a string accessible by the attribute self.event_name. E.g.: 'GW170817'\n",
    "Main attributes:\n",
    "- npix: N of pixels\n",
    "- nside : skymap nside\n",
    "- pixarea: area of a pixel in rad^2\n",
    "- p: probability in a pixel (the rho of Singer et al.)\n",
    "- mu, sigma, norm: mu, sigma, N of the skymap \n",
    "- metadata: the metadata of the event. The metadata file should be a .csv file in the folder data/GW/metadata (editable in globals/metaPath). For O2, it should be called GWTC-1-confident.csv . The file in csv is downloadable at https://www.gw-openscience.org/eventapi/html/GWTC-1-confident/\n",
    "\n",
    "Key methods to compute likelihood:\n",
    "\n",
    "- likelihood(self, r, theta, phi) : likelihood given GW lum distance r, and polar angles theta, phi in radians \n",
    "- likelihood_px(self, r, pix) : lileihood  given GW lum distance r and pixel\n",
    "\n",
    "(Note that the likelihood is a Gaussian truncated at zero. )\n",
    "\n",
    "- likelihood_in_credible_region(self, r, level=0.99,) : likelihood in all the pixels of the credible region specified by level at given GW lum disance r\n",
    "- d_max(self, SNR_ref=8): Max GW luminosity distance at which the evend could be seen, assuming its SNR and a threshold SNR_ref:d_max = d_obs*SNR/SNR_ref\n",
    "- get_zlims(self, H0max=220, H0min=20, Xi0max=3, Xi0min=0.2) : Computes the possible range in redshift for the event given the prior range for H0 and XI0\n",
    "\n",
    "\n",
    "\n",
    "Other: the module contains the function get_all_events(loc='data/GW/O2/', subset, subset_names) , that reads all the skymaps in the folder specified by loc and returns a dictionary {event name: Skymap3D}\n",
    "\n",
    "If subset=True, the dictionary will contain only the events specified in subset_names, which should be a list of names, e.g. : get_all_events(loc='data/GW/O2/', subset=True, subset_names=['GW170817',]) to return skymap of GW170817"
   ]
  },
  {
   "cell_type": "code",
   "execution_count": 7,
   "metadata": {},
   "outputs": [
    {
     "name": "stderr",
     "output_type": "stream",
     "text": [
      "/Users/af/miniconda3/envs/cobenv/lib/python3.7/site-packages/healpy/fitsfunc.py:352: UserWarning: If you are not specifying the input dtype and using the default np.float64 dtype of read_map(), please consider that it will change in a future version to None as to keep the same dtype of the input file: please explicitly set the dtype if it is important to you.\n",
      "  \"If you are not specifying the input dtype and using the default \"\n",
      "/Users/af/miniconda3/envs/cobenv/lib/python3.7/site-packages/healpy/fitsfunc.py:352: UserWarning: If you are not specifying the input dtype and using the default np.float64 dtype of read_map(), please consider that it will change in a future version to None as to keep the same dtype of the input file: please explicitly set the dtype if it is important to you.\n",
      "  \"If you are not specifying the input dtype and using the default \"\n"
     ]
    }
   ],
   "source": [
    "# Example: load skymaps of O2 events GW170817 \n",
    "\n",
    "O2 = get_all_events(loc='data/GW/O2/', subset=True, subset_names=['GW170817',])"
   ]
  },
  {
   "cell_type": "code",
   "execution_count": 8,
   "metadata": {},
   "outputs": [
    {
     "data": {
      "text/plain": [
       "dict_keys(['GW170817'])"
      ]
     },
     "execution_count": 8,
     "metadata": {},
     "output_type": "execute_result"
    }
   ],
   "source": [
    "O2.keys()"
   ]
  },
  {
   "cell_type": "code",
   "execution_count": 9,
   "metadata": {},
   "outputs": [
    {
     "data": {
      "text/plain": [
       "16.15640267031496"
      ]
     },
     "execution_count": 9,
     "metadata": {},
     "output_type": "execute_result"
    }
   ],
   "source": [
    "# Example: chech area of the 90% credible region of GW170817\n",
    "\n",
    "O2['GW170817'].area_p(pp=0.9)"
   ]
  },
  {
   "cell_type": "markdown",
   "metadata": {},
   "source": [
    "## Completeness"
   ]
  },
  {
   "cell_type": "code",
   "execution_count": 10,
   "metadata": {},
   "outputs": [],
   "source": [
    "compl = SkipCompleteness()"
   ]
  },
  {
   "cell_type": "markdown",
   "metadata": {},
   "source": [
    "## GLADE"
   ]
  },
  {
   "cell_type": "code",
   "execution_count": 33,
   "metadata": {},
   "outputs": [
    {
     "name": "stdout",
     "output_type": "stream",
     "text": [
      "Loading GLADE from /Users/af/Work/Cosmo/codes/Xi0Stat/Xi0Stat/../data/GLADE/GLADE_2.4.txt...\n",
      "N. of objects: 3263611\n",
      "Dropping galaxies with HyperLeda name=null and flag2=2...\n",
      "Kept 3262083 points or 100% of total\n",
      "Computing cosmological redshifts from given luminosity distance with H0=70.0 km / (Mpc s), Om0=0.27...\n",
      "Interpolating between z_min=0, z_max=6.49511599474\n",
      "2720966 points have valid entry for dist\n",
      "541117 points have null entry for dist, correcting original redshift\n",
      "Loading galaxy group catalogue from /Users/af/Work/Cosmo/codes/Xi0Stat/Xi0Stat/../data/misc/Galaxy_Group_Catalogue.csv...\n",
      "Keeping only galaxies with positive redshift in the colums z_cosmo_CMB...\n",
      "Kept 2720852 points or 83% of total\n",
      "Renaming column z_cosmo_CMB to z. This will be used in the analysis.\n",
      "Adding errors on z with GLADE values\n",
      "Computing galaxy posteriors...\n",
      "Batch 1 of 28\n",
      "Batch 2 of 28\n",
      "Batch 3 of 28\n",
      "Batch 4 of 28\n",
      "Batch 5 of 28\n",
      "Batch 6 of 28\n",
      "Batch 7 of 28\n",
      "Batch 8 of 28\n",
      "Batch 9 of 28\n",
      "Batch 10 of 28\n",
      "Batch 11 of 28\n",
      "Batch 12 of 28\n",
      "Batch 13 of 28\n",
      "Batch 14 of 28\n",
      "Batch 15 of 28\n",
      "Batch 16 of 28\n",
      "Batch 17 of 28\n",
      "Batch 18 of 28\n",
      "Batch 19 of 28\n",
      "Batch 20 of 28\n",
      "Batch 21 of 28\n",
      "Batch 22 of 28\n",
      "Batch 23 of 28\n",
      "Batch 24 of 28\n",
      "Batch 25 of 28\n",
      "Batch 26 of 28\n",
      "Batch 27 of 28\n",
      "Batch 28 of 28\n",
      "No cut in luminosity applied. Using weights =1 \n",
      "Keeping only columns: ['theta', 'phi', 'z', 'z_err', 'z_lower', 'z_lowerbound', 'z_upper', 'z_upperbound', 'w']\n",
      "Done.\n",
      "Computing completeness\n",
      "SkipCompleteness: nothing to compute\n"
     ]
    }
   ],
   "source": [
    "glade = GLADE('GLADE', compl, useDirac=False, computePosterior=True, verbose=True)"
   ]
  },
  {
   "cell_type": "code",
   "execution_count": 34,
   "metadata": {},
   "outputs": [],
   "source": [
    "gals = GalCompleted()\n",
    "gals.add_cat(glade)"
   ]
  },
  {
   "cell_type": "markdown",
   "metadata": {},
   "source": [
    "## GWgal\n",
    "\n",
    "This module contains the object GWgal. Its main attributes are :\n",
    "- gals : a GalCompleted object\n",
    "- GWevents: a dictionary {event name: Skymap3D} for the GW events\n",
    "\n",
    "At initialization, two other attributes will be created:\n",
    "- cred_pixels : a dictionary {event name: list of pixels of the credible region specified by credible_level (default 0.99)}\n",
    "- z_lims : a dictionary {event name: (z_min, z_max) } where z_min, z_max are the min and max redshift for all prior ranges in H0 and Xi0 . This is computed using mean+-3sigma with mean and sigma the mu and std of the GW luminosity distance, taken from the header of the skymap "
   ]
  },
  {
   "cell_type": "code",
   "execution_count": 35,
   "metadata": {},
   "outputs": [],
   "source": [
    "myGWgal = GWgal(gals, O2)"
   ]
  },
  {
   "cell_type": "code",
   "execution_count": 36,
   "metadata": {},
   "outputs": [
    {
     "data": {
      "text/plain": [
       "{'GW170817': (0.0010314992453354975, 0.04593987289261164)}"
      ]
     },
     "execution_count": 36,
     "metadata": {},
     "output_type": "execute_result"
    }
   ],
   "source": [
    "# Example: z limits for GW170817 with prior range H0max=220, H0min=20, Xi0max=3, Xi0min=0.2\n",
    "\n",
    "myGWgal.z_lims"
   ]
  },
  {
   "cell_type": "markdown",
   "metadata": {},
   "source": [
    "## Computing posterior"
   ]
  },
  {
   "cell_type": "code",
   "execution_count": 37,
   "metadata": {},
   "outputs": [
    {
     "name": "stdout",
     "output_type": "stream",
     "text": [
      "Restricting area of the catalogue to 4928 pixels with nside=1024\n",
      "1020 galaxies kept\n",
      "Setting z range of the catalogue between 0.0010314992453354975, 0.04593987289261164\n",
      "113 galaxies kept\n"
     ]
    }
   ],
   "source": [
    "# Set area and z range in the galaxy catalogue\n",
    "\n",
    "myGWgal.gals.select_area(myGWgal.cred_pixels['GW170817'], myGWgal.GWevents['GW170817'].nside)\n",
    "\n",
    "\n",
    "myGWgal.gals.set_z_range_for_selection( *myGWgal.z_lims['GW170817'])\n"
   ]
  },
  {
   "cell_type": "code",
   "execution_count": 47,
   "metadata": {},
   "outputs": [
    {
     "name": "stdout",
     "output_type": "stream",
     "text": [
      "Restricting area of the catalogue to 4928 pixels with nside=1024\n",
      "1020 galaxies kept\n",
      "Setting z range of the catalogue between 0.0010314992453354975, 0.04593987289261164\n",
      "113 galaxies kept\n"
     ]
    },
    {
     "name": "stderr",
     "output_type": "stream",
     "text": [
      "/Users/af/miniconda3/envs/cobenv/lib/python3.7/site-packages/scipy/optimize/minpack.py:162: RuntimeWarning: The iteration is not making good progress, as measured by the \n",
      "  improvement from the last ten iterations.\n",
      "  warnings.warn(msg, RuntimeWarning)\n",
      "/Users/af/miniconda3/envs/cobenv/lib/python3.7/site-packages/scipy/optimize/minpack.py:162: RuntimeWarning: The iteration is not making good progress, as measured by the \n",
      "  improvement from the last ten iterations.\n",
      "  warnings.warn(msg, RuntimeWarning)\n",
      "/Users/af/miniconda3/envs/cobenv/lib/python3.7/site-packages/scipy/optimize/minpack.py:162: RuntimeWarning: The iteration is not making good progress, as measured by the \n",
      "  improvement from the last ten iterations.\n",
      "  warnings.warn(msg, RuntimeWarning)\n",
      "/Users/af/miniconda3/envs/cobenv/lib/python3.7/site-packages/scipy/optimize/minpack.py:162: RuntimeWarning: The iteration is not making good progress, as measured by the \n",
      "  improvement from the last ten iterations.\n",
      "  warnings.warn(msg, RuntimeWarning)\n",
      "/Users/af/miniconda3/envs/cobenv/lib/python3.7/site-packages/scipy/optimize/minpack.py:162: RuntimeWarning: The iteration is not making good progress, as measured by the \n",
      "  improvement from the last ten iterations.\n",
      "  warnings.warn(msg, RuntimeWarning)\n",
      "/Users/af/miniconda3/envs/cobenv/lib/python3.7/site-packages/scipy/optimize/minpack.py:162: RuntimeWarning: The iteration is not making good progress, as measured by the \n",
      "  improvement from the last ten iterations.\n",
      "  warnings.warn(msg, RuntimeWarning)\n",
      "/Users/af/miniconda3/envs/cobenv/lib/python3.7/site-packages/scipy/optimize/minpack.py:162: RuntimeWarning: The iteration is not making good progress, as measured by the \n",
      "  improvement from the last ten iterations.\n",
      "  warnings.warn(msg, RuntimeWarning)\n",
      "/Users/af/miniconda3/envs/cobenv/lib/python3.7/site-packages/scipy/optimize/minpack.py:162: RuntimeWarning: The iteration is not making good progress, as measured by the \n",
      "  improvement from the last ten iterations.\n",
      "  warnings.warn(msg, RuntimeWarning)\n",
      "/Users/af/miniconda3/envs/cobenv/lib/python3.7/site-packages/scipy/optimize/minpack.py:162: RuntimeWarning: The iteration is not making good progress, as measured by the \n",
      "  improvement from the last ten iterations.\n",
      "  warnings.warn(msg, RuntimeWarning)\n",
      "/Users/af/miniconda3/envs/cobenv/lib/python3.7/site-packages/scipy/optimize/minpack.py:162: RuntimeWarning: The iteration is not making good progress, as measured by the \n",
      "  improvement from the last ten iterations.\n",
      "  warnings.warn(msg, RuntimeWarning)\n",
      "/Users/af/miniconda3/envs/cobenv/lib/python3.7/site-packages/scipy/optimize/minpack.py:162: RuntimeWarning: The iteration is not making good progress, as measured by the \n",
      "  improvement from the last ten iterations.\n",
      "  warnings.warn(msg, RuntimeWarning)\n",
      "/Users/af/miniconda3/envs/cobenv/lib/python3.7/site-packages/scipy/optimize/minpack.py:162: RuntimeWarning: The iteration is not making good progress, as measured by the \n",
      "  improvement from the last ten iterations.\n",
      "  warnings.warn(msg, RuntimeWarning)\n",
      "/Users/af/miniconda3/envs/cobenv/lib/python3.7/site-packages/scipy/optimize/minpack.py:162: RuntimeWarning: The iteration is not making good progress, as measured by the \n",
      "  improvement from the last ten iterations.\n",
      "  warnings.warn(msg, RuntimeWarning)\n",
      "/Users/af/miniconda3/envs/cobenv/lib/python3.7/site-packages/scipy/optimize/minpack.py:162: RuntimeWarning: The iteration is not making good progress, as measured by the \n",
      "  improvement from the last ten iterations.\n",
      "  warnings.warn(msg, RuntimeWarning)\n",
      "/Users/af/miniconda3/envs/cobenv/lib/python3.7/site-packages/scipy/optimize/minpack.py:162: RuntimeWarning: The iteration is not making good progress, as measured by the \n",
      "  improvement from the last ten iterations.\n",
      "  warnings.warn(msg, RuntimeWarning)\n"
     ]
    }
   ],
   "source": [
    "# Compute likelihood for H0 on a grid\n",
    "H0grid = np.linspace(50, 90, 50)\n",
    "Xi0grid = np.linspace(1,1,1)\n",
    "myGWgal._galRedshiftErrors = True\n",
    "\n",
    "liks = myGWgal.get_inhom_lik(H0s=H0grid, Xi0s=Xi0grid, n=1.91)\n",
    "\n",
    "\n",
    "lik = np.squeeze(np.ones((H0grid.size, Xi0grid.size)))\n",
    "\n",
    "for key, val in liks.items():\n",
    "\n",
    "    lik *= val "
   ]
  },
  {
   "cell_type": "code",
   "execution_count": 48,
   "metadata": {},
   "outputs": [
    {
     "data": {
      "image/png": "[encoded data removed]",
      "text/plain": [
       "<Figure size 432x288 with 1 Axes>"
      ]
     },
     "metadata": {
      "needs_background": "light"
     },
     "output_type": "display_data"
    }
   ],
   "source": [
    "# # Plot the posterior with beta=H0^3\n",
    "# plt.imshow(lik, extent=[Xi0grid[0],Xi0grid[-1],H0grid[0],H0grid[-1]])\n",
    "# plt.colorbar()\n",
    "\n",
    "\n",
    "# plt.show()\n",
    "\n",
    "\n",
    "# norm=np.trapz(lik[:,0]/H0grid**3, H0grid)\n",
    "# plt.plot(H0grid, lik[:,0]/H0grid**3/norm)\n",
    "# plt.show()\n",
    "\n",
    "norm=np.trapz(lik/H0grid**3, H0grid)\n",
    "plt.plot(H0grid, lik/H0grid**3/norm)\n",
    "plt.show()"
   ]
  },
  {
   "cell_type": "code",
   "execution_count": null,
   "metadata": {},
   "outputs": [],
   "source": []
  },
  {
   "cell_type": "code",
   "execution_count": null,
   "metadata": {},
   "outputs": [],
   "source": []
  },
  {
   "cell_type": "code",
   "execution_count": null,
   "metadata": {},
   "outputs": [],
   "source": []
  }
 ],
 "metadata": {
  "kernelspec": {
   "display_name": "Python 3",
   "language": "python",
   "name": "python3"
  },
  "language_info": {
   "codemirror_mode": {
    "name": "ipython",
    "version": 3
   },
   "file_extension": ".py",
   "mimetype": "text/x-python",
   "name": "python",
   "nbconvert_exporter": "python",
   "pygments_lexer": "ipython3",
   "version": "3.7.3"
  }
 },
 "nbformat": 4,
 "nbformat_minor": 2
}
