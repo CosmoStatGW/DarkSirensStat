{
 "cells": [
  {
   "cell_type": "markdown",
   "metadata": {},
   "source": [
    "# Xi0Stat Tutorial"
   ]
  },
  {
   "cell_type": "markdown",
   "metadata": {},
   "source": [
    "## Setup"
   ]
  },
  {
   "cell_type": "code",
   "execution_count": 1,
   "metadata": {},
   "outputs": [
    {
     "data": {
      "application/javascript": [
       "IPython.OutputArea.prototype._should_scroll = function(lines) {\n",
       "    return false;\n",
       "}\n"
      ],
      "text/plain": [
       "<IPython.core.display.Javascript object>"
      ]
     },
     "metadata": {},
     "output_type": "display_data"
    }
   ],
   "source": [
    "%%javascript\n",
    "IPython.OutputArea.prototype._should_scroll = function(lines) {\n",
    "    return false;\n",
    "}"
   ]
  },
  {
   "cell_type": "code",
   "execution_count": 2,
   "metadata": {},
   "outputs": [],
   "source": [
    "import numpy as np\n",
    "import matplotlib.pyplot as plt\n",
    "import scipy.stats\n",
    "from astropy.cosmology import FlatLambdaCDM"
   ]
  },
  {
   "cell_type": "code",
   "execution_count": 3,
   "metadata": {},
   "outputs": [
    {
     "name": "stdout",
     "output_type": "stream",
     "text": [
      "/Users/af/Work/Cosmo/codes/Xi0Stat\n"
     ]
    }
   ],
   "source": [
    "%cd ../"
   ]
  },
  {
   "cell_type": "code",
   "execution_count": 4,
   "metadata": {},
   "outputs": [],
   "source": [
    "from Xi0Stat.globals import * \n",
    "from Xi0Stat.GW import get_all_events\n",
    "from Xi0Stat.GLADE import GLADE\n",
    "from Xi0Stat.GWENS import GWENS\n",
    "from Xi0Stat.SYNTH import SYNTH\n",
    "from Xi0Stat.completeness import *\n",
    "from Xi0Stat.galCat import GalCompleted\n",
    "from Xi0Stat.GWgal import GWgal\n",
    "from Xi0Stat.betaHom import BetaHom"
   ]
  },
  {
   "cell_type": "code",
   "execution_count": 5,
   "metadata": {},
   "outputs": [],
   "source": [
    "%load_ext autoreload\n",
    "%autoreload 2"
   ]
  },
  {
   "cell_type": "markdown",
   "metadata": {},
   "source": [
    "## GW\n",
    "\n",
    "This module is based on the object Skymap3D. This contains the GW skymap for a single GW event denoted by its name - a string accessible by the attribute self.event_name. E.g.: 'GW170817'\n",
    "Main attributes:\n",
    "- npix: N of pixels\n",
    "- nside : skymap nside\n",
    "- pixarea: area of a pixel in rad^2\n",
    "- p: probability in a pixel (the rho of Singer et al.)\n",
    "- mu, sigma, norm: mu, sigma, N of the skymap \n",
    "- metadata: the metadata of the event. The metadata file should be a .csv file in the folder data/GW/metadata (editable in globals/metaPath). For O2, it should be called GWTC-1-confident.csv . The file in csv is downloadable at https://www.gw-openscience.org/eventapi/html/GWTC-1-confident/\n",
    "\n",
    "Key methods to compute likelihood:\n",
    "\n",
    "- likelihood(self, r, theta, phi) : likelihood given GW lum distance r, and polar angles theta, phi in radians \n",
    "- likelihood_px(self, r, pix) : lileihood  given GW lum distance r and pixel\n",
    "\n",
    "(Note that the likelihood is a Gaussian truncated at zero. )\n",
    "\n",
    "- likelihood_in_credible_region(self, r, level=0.99,) : likelihood in all the pixels of the credible region specified by level at given GW lum disance r\n",
    "- d_max(self, SNR_ref=8): Max GW luminosity distance at which the evend could be seen, assuming its SNR and a threshold SNR_ref:d_max = d_obs*SNR/SNR_ref\n",
    "- get_zlims(self, H0max=220, H0min=20, Xi0max=3, Xi0min=0.2) : Computes the possible range in redshift for the event given the prior range for H0 and XI0\n",
    "\n",
    "\n",
    "\n",
    "Other: the module contains the function get_all_events(loc='data/GW/O2/', subset, subset_names) , that reads all the skymaps in the folder specified by loc and returns a dictionary {event name: Skymap3D}\n",
    "\n",
    "If subset=True, the dictionary will contain only the events specified in subset_names, which should be a list of names, e.g. : get_all_events(loc='data/GW/O2/', subset=True, subset_names=['GW170817',]) to return skymap of GW170817"
   ]
  },
  {
   "cell_type": "code",
   "execution_count": 6,
   "metadata": {},
   "outputs": [
    {
     "name": "stderr",
     "output_type": "stream",
     "text": [
      "/Users/af/miniconda3/envs/cobenv/lib/python3.7/site-packages/healpy/fitsfunc.py:352: UserWarning: If you are not specifying the input dtype and using the default np.float64 dtype of read_map(), please consider that it will change in a future version to None as to keep the same dtype of the input file: please explicitly set the dtype if it is important to you.\n",
      "  \"If you are not specifying the input dtype and using the default \"\n",
      "/Users/af/miniconda3/envs/cobenv/lib/python3.7/site-packages/healpy/fitsfunc.py:352: UserWarning: If you are not specifying the input dtype and using the default np.float64 dtype of read_map(), please consider that it will change in a future version to None as to keep the same dtype of the input file: please explicitly set the dtype if it is important to you.\n",
      "  \"If you are not specifying the input dtype and using the default \"\n"
     ]
    }
   ],
   "source": [
    "# Example: load skymaps of O2 events GW170817 \n",
    "\n",
    "O2 = get_all_events(loc='data/GW/O2/', subset=True, subset_names=['GW170817',])"
   ]
  },
  {
   "cell_type": "code",
   "execution_count": 7,
   "metadata": {},
   "outputs": [
    {
     "data": {
      "text/plain": [
       "16.15640267031496"
      ]
     },
     "execution_count": 7,
     "metadata": {},
     "output_type": "execute_result"
    }
   ],
   "source": [
    "# Example: chech area of the 90% credible region of GW170817\n",
    "\n",
    "O2['GW170817'].area_p(pp=0.9)"
   ]
  },
  {
   "cell_type": "markdown",
   "metadata": {},
   "source": [
    "## Completeness"
   ]
  },
  {
   "cell_type": "code",
   "execution_count": 23,
   "metadata": {},
   "outputs": [],
   "source": [
    "compl = SkipCompleteness()"
   ]
  },
  {
   "cell_type": "markdown",
   "metadata": {},
   "source": [
    "## GLADE"
   ]
  },
  {
   "cell_type": "code",
   "execution_count": 24,
   "metadata": {},
   "outputs": [],
   "source": [
    "glade = GLADE('GLADE', compl, False)"
   ]
  },
  {
   "cell_type": "code",
   "execution_count": 25,
   "metadata": {},
   "outputs": [],
   "source": [
    "gals = GalCompleted()\n",
    "gals.add_cat(glade)"
   ]
  },
  {
   "cell_type": "markdown",
   "metadata": {},
   "source": [
    "## GWgal\n",
    "\n",
    "This module contains the object GWgal. Its main attributes are :\n",
    "- gals : a GalCompleted object\n",
    "- GWevents: a dictionary {event name: Skymap3D} for the GW events\n",
    "\n",
    "At initialization, two other attributes will be created:\n",
    "- cred_pixels : a dictionary {event name: list of pixels of the credible region specified by credible_level (default 0.99)}\n",
    "- z_lims : a dictionary {event name: (z_min, z_max) } where z_min, z_max are the min and max redshift for all prior ranges in H0 and Xi0 . This is computed using mean+-3sigma with mean and sigma the mu and std of the GW luminosity distance, taken from the header of the skymap "
   ]
  },
  {
   "cell_type": "code",
   "execution_count": 26,
   "metadata": {},
   "outputs": [],
   "source": [
    "myGWgal = GWgal(gals, O2)"
   ]
  },
  {
   "cell_type": "code",
   "execution_count": 27,
   "metadata": {},
   "outputs": [
    {
     "data": {
      "text/plain": [
       "{'GW170817': (0.0010314992453354975, 0.04593987289261164)}"
      ]
     },
     "execution_count": 27,
     "metadata": {},
     "output_type": "execute_result"
    }
   ],
   "source": [
    "# Example: z limits for GW170817 with prior range H0max=220, H0min=20, Xi0max=3, Xi0min=0.2\n",
    "\n",
    "myGWgal.z_lims"
   ]
  },
  {
   "cell_type": "markdown",
   "metadata": {},
   "source": [
    "## Computing posterior"
   ]
  },
  {
   "cell_type": "code",
   "execution_count": 30,
   "metadata": {},
   "outputs": [
    {
     "name": "stdout",
     "output_type": "stream",
     "text": [
      "Restricting area of the catalogue to 4928 pixels with nside=1024\n",
      "1020 galaxies kept\n",
      "Setting z range of the catalogue between 0.0010314992453354975, 0.04593987289261164\n",
      "199 galaxies kept\n"
     ]
    }
   ],
   "source": [
    "# Set area and z range in the galaxy catalogue\n",
    "\n",
    "myGWgal.gals.select_area(myGWgal.cred_pixels['GW170817'], myGWgal.GWevents['GW170817'].nside)\n",
    "\n",
    "\n",
    "myGWgal.gals.set_z_range_for_selection( *myGWgal.z_lims['GW170817'])\n"
   ]
  },
  {
   "cell_type": "code",
   "execution_count": 47,
   "metadata": {},
   "outputs": [
    {
     "name": "stdout",
     "output_type": "stream",
     "text": [
      "<class 'int'>\n",
      "1\n",
      "<class 'numpy.ndarray'>\n",
      "[[0.         0.         0.         ... 0.         0.         0.        ]\n",
      " [0.         0.         0.         ... 0.         0.         0.        ]\n",
      " [0.         0.         0.         ... 0.         0.         0.        ]\n",
      " ...\n",
      " [0.         0.         0.         ... 0.00013707 0.00013706 0.00013705]\n",
      " [0.         0.00039535 0.0009505  ... 0.01089152 0.01084105 0.01067538]\n",
      " [0.00014216 0.00038339 0.00048242 ... 0.00047963 0.00047957 0.00047954]]\n",
      "{'GW170817': 4.8156044649555844e-11}\n",
      "GW170817 4.8156044649555844e-11\n",
      "<class 'int'>\n",
      "1\n",
      "<class 'numpy.ndarray'>\n",
      "[[0.00000000e+00 0.00000000e+00 0.00000000e+00 ... 0.00000000e+00\n",
      "  0.00000000e+00 0.00000000e+00]\n",
      " [0.00000000e+00 0.00000000e+00 0.00000000e+00 ... 0.00000000e+00\n",
      "  0.00000000e+00 0.00000000e+00]\n",
      " [0.00000000e+00 0.00000000e+00 0.00000000e+00 ... 0.00000000e+00\n",
      "  0.00000000e+00 0.00000000e+00]\n",
      " ...\n",
      " [0.00000000e+00 0.00000000e+00 0.00000000e+00 ... 1.83960130e-04\n",
      "  1.83928673e-04 1.83912952e-04]\n",
      " [3.15896409e-05 7.78217487e-04 1.49312536e-03 ... 1.05774405e-02\n",
      "  1.03283747e-02 9.95178684e-03]\n",
      " [2.25346212e-04 5.49732422e-04 6.48715795e-04 ... 1.37097158e-03\n",
      "  1.37073714e-03 1.37061998e-03]]\n",
      "{'GW170817': 7.356949249496631e-11}\n",
      "GW170817 7.356949249496631e-11\n",
      "<class 'int'>\n",
      "1\n",
      "<class 'numpy.ndarray'>\n",
      "[[0.         0.         0.         ... 0.         0.         0.        ]\n",
      " [0.         0.         0.         ... 0.         0.         0.        ]\n",
      " [0.         0.         0.         ... 0.         0.         0.        ]\n",
      " ...\n",
      " [0.         0.         0.         ... 0.00023065 0.00023061 0.00023058]\n",
      " [0.00022305 0.00116105 0.00187581 ... 0.00911665 0.00903842 0.00860581]\n",
      " [0.00030853 0.00071606 0.00081498 ... 0.00201953 0.00218062 0.00218038]]\n",
      "{'GW170817': 1.0369852350126572e-10}\n",
      "GW170817 1.0369852350126572e-10\n",
      "<class 'int'>\n",
      "1\n",
      "<class 'numpy.ndarray'>\n",
      "[[0.         0.         0.         ... 0.         0.         0.        ]\n",
      " [0.         0.         0.         ... 0.         0.         0.        ]\n",
      " [0.         0.         0.         ... 0.         0.         0.        ]\n",
      " ...\n",
      " [0.         0.         0.         ... 0.00027716 0.00027709 0.00027705]\n",
      " [0.00041449 0.00154385 0.00225843 ... 0.00802708 0.0079592  0.00768884]\n",
      " [0.00039171 0.00088238 0.00098121 ... 0.00262084 0.00271341 0.00292455]]\n",
      "{'GW170817': 1.3587435847865348e-10}\n",
      "GW170817 1.3587435847865348e-10\n",
      "<class 'int'>\n",
      "1\n",
      "<class 'numpy.ndarray'>\n",
      "[[0.         0.         0.         ... 0.         0.         0.        ]\n",
      " [0.         0.         0.         ... 0.         0.         0.        ]\n",
      " [0.         0.         0.         ... 0.         0.         0.        ]\n",
      " ...\n",
      " [0.         0.         0.         ... 0.00032348 0.00032338 0.00032333]\n",
      " [0.00060593 0.00192662 0.00264097 ... 0.00738167 0.00728243 0.00685769]\n",
      " [0.00047488 0.00104868 0.00114742 ... 0.00355265 0.00360487 0.0038053 ]]\n",
      "{'GW170817': 1.6754517966451386e-10}\n",
      "GW170817 1.6754517966451386e-10\n",
      "<class 'int'>\n",
      "1\n",
      "<class 'numpy.ndarray'>\n",
      "[[0.00000000e+00 0.00000000e+00 0.00000000e+00 ... 0.00000000e+00\n",
      "  0.00000000e+00 0.00000000e+00]\n",
      " [0.00000000e+00 0.00000000e+00 0.00000000e+00 ... 8.20217267e-02\n",
      "  3.41994512e-01 4.06250202e-01]\n",
      " [0.00000000e+00 0.00000000e+00 0.00000000e+00 ... 8.37803504e-02\n",
      "  3.44256185e-01 4.04666929e-01]\n",
      " ...\n",
      " [0.00000000e+00 0.00000000e+00 0.00000000e+00 ... 3.69609330e-04\n",
      "  3.69484133e-04 3.69421573e-04]\n",
      " [7.97359573e-04 2.30935315e-03 3.02345323e-03 ... 6.58873055e-03\n",
      "  6.57374193e-03 6.54367617e-03]\n",
      " [5.58049053e-04 1.21496249e-03 1.31359490e-03 ... 4.51875501e-03\n",
      "  4.66401358e-03 4.85566994e-03]]\n",
      "{'GW170817': 2.0110939671208342e-10}\n",
      "GW170817 2.0110939671208342e-10\n",
      "<class 'int'>\n",
      "1\n",
      "<class 'numpy.ndarray'>\n",
      "[[0.00000000e+00 0.00000000e+00 0.00000000e+00 ... 4.53426108e-01\n",
      "  2.39149498e-01 2.09015233e-02]\n",
      " [0.00000000e+00 0.00000000e+00 0.00000000e+00 ... 0.00000000e+00\n",
      "  0.00000000e+00 0.00000000e+00]\n",
      " [0.00000000e+00 0.00000000e+00 0.00000000e+00 ... 0.00000000e+00\n",
      "  0.00000000e+00 0.00000000e+00]\n",
      " ...\n",
      " [0.00000000e+00 0.00000000e+00 0.00000000e+00 ... 4.15558458e-04\n",
      "  4.15400746e-04 4.15321946e-04]\n",
      " [9.88780547e-04 2.69205135e-03 3.40586402e-03 ... 6.47833929e-03\n",
      "  6.17444020e-03 5.75684890e-03]\n",
      " [6.41215419e-04 1.38123277e-03 1.47974031e-03 ... 5.61185878e-03\n",
      "  5.79354426e-03 5.87784113e-03]]\n",
      "{'GW170817': 2.502973856790108e-10}\n",
      "GW170817 2.502973856790108e-10\n",
      "<class 'int'>\n",
      "1\n",
      "<class 'numpy.ndarray'>\n",
      "[[0.         0.         0.         ... 0.         0.         0.        ]\n",
      " [0.         0.         0.         ... 0.         0.         0.        ]\n",
      " [0.         0.         0.         ... 0.         0.         0.        ]\n",
      " ...\n",
      " [0.         0.         0.         ... 0.00046133 0.00046113 0.00046104]\n",
      " [0.00118019 0.00307472 0.00378821 ... 0.00605259 0.00563124 0.00542549]\n",
      " [0.00072438 0.00154749 0.00164586 ... 0.00677405 0.00687464 0.00687319]]\n"
     ]
    },
    {
     "name": "stderr",
     "output_type": "stream",
     "text": [
      "/Users/af/miniconda3/envs/cobenv/lib/python3.7/site-packages/scipy/optimize/minpack.py:162: RuntimeWarning: The iteration is not making good progress, as measured by the \n",
      "  improvement from the last ten iterations.\n",
      "  warnings.warn(msg, RuntimeWarning)\n"
     ]
    },
    {
     "name": "stdout",
     "output_type": "stream",
     "text": [
      "{'GW170817': 3.2996465425507833e-10}\n",
      "GW170817 3.2996465425507833e-10\n",
      "<class 'int'>\n",
      "1\n",
      "<class 'numpy.ndarray'>\n",
      "[[0.         0.         0.         ... 0.         0.         0.        ]\n",
      " [0.         0.         0.         ... 0.         0.         0.        ]\n",
      " [0.         0.         0.         ... 0.         0.         0.        ]\n",
      " ...\n",
      " [0.         0.         0.         ... 0.00050692 0.00050668 0.00050657]\n",
      " [0.0013716  0.00345734 0.00417048 ... 0.00572758 0.0053103  0.00513221]\n",
      " [0.00080754 0.00171373 0.00181194 ... 0.0078839  0.00788582 0.00802235]]\n",
      "{'GW170817': 4.3200660227928997e-10}\n",
      "GW170817 4.3200660227928997e-10\n",
      "<class 'int'>\n",
      "1\n",
      "<class 'numpy.ndarray'>\n",
      "[[0.         0.         0.         ... 0.         0.         0.        ]\n",
      " [0.         0.         0.         ... 0.         0.         0.        ]\n",
      " [0.         0.         0.         ... 0.         0.         0.        ]\n",
      " ...\n",
      " [0.         0.         0.         ... 0.00055233 0.00055205 0.00055191]\n",
      " [0.00156299 0.00383994 0.00455269 ... 0.00559583 0.00519675 0.00479085]\n",
      " [0.00089069 0.00187995 0.001978   ... 0.00892614 0.00904784 0.00913746]]\n"
     ]
    },
    {
     "name": "stderr",
     "output_type": "stream",
     "text": [
      "/Users/af/miniconda3/envs/cobenv/lib/python3.7/site-packages/scipy/optimize/minpack.py:162: RuntimeWarning: The iteration is not making good progress, as measured by the \n",
      "  improvement from the last ten iterations.\n",
      "  warnings.warn(msg, RuntimeWarning)\n"
     ]
    },
    {
     "name": "stdout",
     "output_type": "stream",
     "text": [
      "{'GW170817': 5.285531171055571e-10}\n",
      "GW170817 5.285531171055571e-10\n",
      "<class 'int'>\n",
      "1\n",
      "<class 'numpy.ndarray'>\n",
      "[[0.         0.         0.         ... 0.         0.         0.        ]\n",
      " [0.         0.         0.         ... 0.         0.         0.        ]\n",
      " [0.         0.         0.         ... 0.         0.         0.        ]\n",
      " ...\n",
      " [0.         0.         0.         ... 0.00187764 0.0021298  0.00212922]\n",
      " [0.00175438 0.0042225  0.00493482 ... 0.00517822 0.00517543 0.00488162]\n",
      " [0.00097384 0.00204617 0.00214402 ... 0.01004803 0.0101118  0.01018437]]\n",
      "{'GW170817': 6.014877958164365e-10}\n",
      "GW170817 6.014877958164365e-10\n",
      "<class 'int'>\n",
      "1\n",
      "<class 'numpy.ndarray'>\n",
      "[[0.         0.         0.         ... 0.         0.         0.        ]\n",
      " [0.         0.         0.         ... 0.         0.         0.        ]\n",
      " [0.         0.         0.         ... 0.         0.         0.        ]\n",
      " ...\n",
      " [0.         0.         0.         ... 0.00229164 0.00229032 0.00228966]\n",
      " [0.00194576 0.00460503 0.00531689 ... 0.00473082 0.0047281  0.00472673]\n",
      " [0.00105699 0.00221236 0.00231002 ... 0.01107645 0.01114223 0.01120635]]\n"
     ]
    },
    {
     "name": "stderr",
     "output_type": "stream",
     "text": [
      "/Users/af/miniconda3/envs/cobenv/lib/python3.7/site-packages/scipy/optimize/minpack.py:162: RuntimeWarning: The iteration is not making good progress, as measured by the \n",
      "  improvement from the last ten iterations.\n",
      "  warnings.warn(msg, RuntimeWarning)\n"
     ]
    },
    {
     "name": "stdout",
     "output_type": "stream",
     "text": [
      "{'GW170817': 6.493744676721215e-10}\n",
      "GW170817 6.493744676721215e-10\n",
      "<class 'int'>\n",
      "1\n",
      "<class 'numpy.ndarray'>\n",
      "[[0.         0.         0.         ... 0.         0.         0.        ]\n",
      " [0.         0.         0.         ... 0.         0.         0.        ]\n",
      " [0.         0.         0.         ... 0.         0.         0.        ]\n",
      " ...\n",
      " [0.         0.         0.         ... 0.00245173 0.00245022 0.00244947]\n",
      " [0.00213713 0.00498752 0.00569889 ... 0.00494214 0.00454385 0.00426629]\n",
      " [0.00114014 0.00237854 0.00247599 ... 0.01206069 0.01209944 0.01212565]]\n",
      "{'GW170817': 6.804828156448274e-10}\n",
      "GW170817 6.804828156448274e-10\n",
      "<class 'int'>\n",
      "1\n",
      "<class 'numpy.ndarray'>\n",
      "[[0.         0.         0.         ... 0.         0.         0.        ]\n",
      " [0.         0.         0.         ... 0.         0.         0.        ]\n",
      " [0.         0.         0.         ... 0.         0.         0.        ]\n",
      " ...\n",
      " [0.         0.         0.         ... 0.00298029 0.00357265 0.00379679]\n",
      " [0.00232849 0.00536998 0.00608083 ... 0.004548   0.00454503 0.00454355]\n",
      " [0.00122328 0.00254471 0.00264193 ... 0.01295829 0.01295761 0.01295773]]\n",
      "{'GW170817': 7.021313996587148e-10}\n",
      "GW170817 7.021313996587148e-10\n",
      "<class 'int'>\n",
      "1\n",
      "<class 'numpy.ndarray'>\n",
      "[[0.         0.         0.         ... 0.         0.         0.        ]\n",
      " [0.         0.         0.         ... 0.         0.         0.        ]\n",
      " [0.         0.         0.         ... 0.         0.         0.        ]\n",
      " ...\n",
      " [0.         0.         0.         ... 0.00403176 0.00402897 0.00402759]\n",
      " [0.00251984 0.0057524  0.00646269 ... 0.00457474 0.00418117 0.00403924]\n",
      " [0.00130641 0.00271086 0.00280784 ... 0.01374369 0.01370946 0.01366329]]\n",
      "{'GW170817': 7.160035440784259e-10}\n",
      "GW170817 7.160035440784259e-10\n",
      "<class 'int'>\n",
      "1\n",
      "<class 'numpy.ndarray'>\n",
      "[[0.00000000e+00 0.00000000e+00 0.00000000e+00 ... 0.00000000e+00\n",
      "  0.00000000e+00 0.00000000e+00]\n",
      " [0.00000000e+00 0.00000000e+00 0.00000000e+00 ... 0.00000000e+00\n",
      "  0.00000000e+00 0.00000000e+00]\n",
      " [0.00000000e+00 0.00000000e+00 0.00000000e+00 ... 0.00000000e+00\n",
      "  0.00000000e+00 0.00000000e+00]\n",
      " ...\n",
      " [0.00000000e+00 0.00000000e+00 7.19366112e-05 ... 4.26214415e-03\n",
      "  4.78220978e-03 5.35738829e-03]\n",
      " [2.71118242e-03 6.13479545e-03 6.84448747e-03 ... 4.27448195e-03\n",
      "  4.27137367e-03 4.26982163e-03]\n",
      " [1.38954461e-03 2.87699631e-03 2.97371356e-03 ... 1.44147050e-02\n",
      "  1.43327468e-02 1.42339581e-02]]\n",
      "{'GW170817': 7.289159226538421e-10}\n",
      "GW170817 7.289159226538421e-10\n",
      "<class 'int'>\n",
      "1\n",
      "<class 'numpy.ndarray'>\n",
      "[[0.         0.         0.         ... 0.         0.         0.        ]\n",
      " [0.         0.         0.         ... 0.         0.         0.        ]\n",
      " [0.         0.         0.         ... 0.         0.         0.        ]\n",
      " ...\n",
      " [0.         0.         0.00014309 ... 0.00570858 0.00570422 0.00570204]\n",
      " [0.00290252 0.00651715 0.00722622 ... 0.00450468 0.00413789 0.0037607 ]\n",
      " [0.00147267 0.00304312 0.00313956 ... 0.01495417 0.01480746 0.01467461]]\n"
     ]
    },
    {
     "name": "stderr",
     "output_type": "stream",
     "text": [
      "/Users/af/miniconda3/envs/cobenv/lib/python3.7/site-packages/scipy/optimize/minpack.py:162: RuntimeWarning: The iteration is not making good progress, as measured by the \n",
      "  improvement from the last ten iterations.\n",
      "  warnings.warn(msg, RuntimeWarning)\n",
      "/Users/af/miniconda3/envs/cobenv/lib/python3.7/site-packages/scipy/optimize/minpack.py:162: RuntimeWarning: The iteration is not making good progress, as measured by the \n",
      "  improvement from the last ten iterations.\n",
      "  warnings.warn(msg, RuntimeWarning)\n"
     ]
    },
    {
     "name": "stdout",
     "output_type": "stream",
     "text": [
      "{'GW170817': 7.408829189306204e-10}\n",
      "GW170817 7.408829189306204e-10\n",
      "<class 'int'>\n",
      "1\n",
      "<class 'numpy.ndarray'>\n",
      "[[0.         0.         0.         ... 0.         0.         0.        ]\n",
      " [0.         0.         0.         ... 0.         0.         0.        ]\n",
      " [0.         0.         0.         ... 0.         0.         0.        ]\n",
      " ...\n",
      " [0.         0.         0.00021424 ... 0.00626918 0.00683584 0.00713495]\n",
      " [0.00309384 0.00689947 0.00760788 ... 0.00394394 0.00394079 0.00393921]\n",
      " [0.0015558  0.00320923 0.00330538 ... 0.01537012 0.01515973 0.01493487]]\n",
      "{'GW170817': 7.541588607248569e-10}\n",
      "GW170817 7.541588607248569e-10\n",
      "<class 'int'>\n",
      "1\n",
      "<class 'numpy.ndarray'>\n",
      "[[0.         0.         0.         ... 0.         0.         0.        ]\n",
      " [0.         0.         0.         ... 0.         0.         0.        ]\n",
      " [0.         0.         0.         ... 0.         0.         0.        ]\n",
      " ...\n",
      " [0.         0.         0.00028538 ... 0.00748835 0.00765676 0.00819594]\n",
      " [0.00328516 0.00728176 0.00798947 ... 0.00413432 0.00413086 0.00400085]\n",
      " [0.00163892 0.00337532 0.00347117 ... 0.01559981 0.0153757  0.01508535]]\n",
      "{'GW170817': 7.720726426207004e-10}\n",
      "GW170817 7.720726426207004e-10\n",
      "<class 'int'>\n",
      "1\n",
      "<class 'numpy.ndarray'>\n",
      "[[0.         0.         0.         ... 0.         0.         0.        ]\n",
      " [0.         0.         0.         ... 0.         0.         0.        ]\n",
      " [0.         0.         0.         ... 0.         0.         0.        ]\n",
      " ...\n",
      " [0.         0.         0.0003565  ... 0.00870911 0.00895991 0.00930848]\n",
      " [0.00347647 0.00766402 0.00837099 ... 0.0040919  0.00372058 0.00358327]\n",
      " [0.00172204 0.00354139 0.00363693 ... 0.01574102 0.01538358 0.01510633]]\n",
      "{'GW170817': 7.948902216560809e-10}\n",
      "GW170817 7.948902216560809e-10\n",
      "<class 'int'>\n",
      "1\n",
      "<class 'numpy.ndarray'>\n",
      "[[0.         0.         0.         ... 0.         0.         0.        ]\n",
      " [0.         0.         0.         ... 0.         0.         0.        ]\n",
      " [0.         0.         0.         ... 0.         0.         0.        ]\n",
      " ...\n",
      " [0.         0.         0.00042762 ... 0.00981047 0.01034007 0.01060793]\n",
      " [0.00366777 0.00804624 0.00875245 ... 0.00374478 0.00374139 0.0037397 ]\n",
      " [0.00180515 0.00370746 0.00380266 ... 0.01571916 0.01531946 0.01489117]]\n",
      "{'GW170817': 8.255526616959942e-10}\n",
      "GW170817 8.255526616959942e-10\n",
      "<class 'int'>\n",
      "1\n",
      "<class 'numpy.ndarray'>\n",
      "[[0.         0.         0.         ... 0.         0.         0.        ]\n",
      " [0.         0.         0.         ... 0.         0.         0.        ]\n",
      " [0.         0.         0.         ... 0.         0.         0.        ]\n",
      " ...\n",
      " [0.         0.         0.00049873 ... 0.01110416 0.01160349 0.01201297]\n",
      " [0.00385906 0.00842842 0.00966274 ... 0.00390106 0.00389738 0.00388726]\n",
      " [0.00188826 0.0038735  0.00396836 ... 0.01550679 0.0151297  0.01463082]]\n",
      "{'GW170817': 8.584642551728151e-10}\n",
      "GW170817 8.584642551728151e-10\n",
      "<class 'int'>\n",
      "1\n",
      "<class 'numpy.ndarray'>\n",
      "[[0.         0.         0.         ... 0.         0.         0.        ]\n",
      " [0.         0.         0.         ... 0.         0.         0.        ]\n",
      " [0.         0.         0.         ... 0.         0.         0.        ]\n",
      " ...\n",
      " [0.         0.         0.00056983 ... 0.01250792 0.01297635 0.01346918]\n",
      " [0.00405035 0.00881057 0.01182534 ... 0.00404602 0.00369804 0.00336278]\n",
      " [0.00197137 0.00403954 0.00413404 ... 0.015246   0.01481699 0.01425567]]\n",
      "{'GW170817': 8.971019899429466e-10}\n",
      "GW170817 8.971019899429466e-10\n",
      "<class 'int'>\n",
      "1\n",
      "<class 'numpy.ndarray'>\n",
      "[[0.00000000e+00 0.00000000e+00 0.00000000e+00 ... 0.00000000e+00\n",
      "  0.00000000e+00 0.00000000e+00]\n",
      " [0.00000000e+00 0.00000000e+00 0.00000000e+00 ... 0.00000000e+00\n",
      "  0.00000000e+00 0.00000000e+00]\n",
      " [0.00000000e+00 0.00000000e+00 0.00000000e+00 ... 0.00000000e+00\n",
      "  0.00000000e+00 0.00000000e+00]\n",
      " ...\n",
      " [0.00000000e+00 2.68667406e-05 6.40916280e-04 ... 1.39668265e-02\n",
      "  1.44030595e-02 1.49373105e-02]\n",
      " [4.24162242e-03 9.19269276e-03 1.39876452e-02 ... 3.53830019e-03\n",
      "  3.49298890e-03 3.49122796e-03]\n",
      " [2.05447244e-03 4.20555608e-03 4.29967863e-03 ... 1.48733581e-02\n",
      "  1.43380669e-02 1.37772435e-02]]\n",
      "{'GW170817': 9.335095499244607e-10}\n",
      "GW170817 9.335095499244607e-10\n",
      "<class 'int'>\n",
      "1\n",
      "<class 'numpy.ndarray'>\n",
      "[[0.00000000e+00 0.00000000e+00 0.00000000e+00 ... 0.00000000e+00\n",
      "  0.00000000e+00 0.00000000e+00]\n",
      " [0.00000000e+00 0.00000000e+00 0.00000000e+00 ... 0.00000000e+00\n",
      "  0.00000000e+00 0.00000000e+00]\n",
      " [0.00000000e+00 0.00000000e+00 0.00000000e+00 ... 0.00000000e+00\n",
      "  0.00000000e+00 0.00000000e+00]\n",
      " ...\n",
      " [0.00000000e+00 7.43089261e-05 7.11996049e-04 ... 1.54412977e-02\n",
      "  1.58436252e-02 1.63873607e-02]\n",
      " [4.43288884e-03 9.57477569e-03 1.61496409e-02 ... 3.62487815e-03\n",
      "  3.62109823e-03 3.61921198e-03]\n",
      " [2.13757166e-03 4.37155904e-03 4.46529165e-03 ... 1.44004092e-02\n",
      "  1.38231904e-02 1.32133069e-02]]\n",
      "{'GW170817': 9.738679866309974e-10}\n",
      "GW170817 9.738679866309974e-10\n",
      "<class 'int'>\n",
      "1\n",
      "<class 'numpy.ndarray'>\n",
      "[[0.         0.         0.         ... 0.         0.         0.        ]\n",
      " [0.         0.         0.         ... 0.         0.         0.        ]\n",
      " [0.         0.         0.         ... 0.         0.         0.        ]\n",
      " ...\n",
      " [0.         0.00012175 0.00078307 ... 0.01690111 0.01729379 0.01779532]\n",
      " [0.00462415 0.00995682 0.01831133 ... 0.00375279 0.00374875 0.00363771]\n",
      " [0.00222067 0.00453755 0.00463088 ... 0.01384501 0.01324676 0.01259097]]\n"
     ]
    },
    {
     "name": "stderr",
     "output_type": "stream",
     "text": [
      "/Users/af/miniconda3/envs/cobenv/lib/python3.7/site-packages/scipy/optimize/minpack.py:162: RuntimeWarning: The iteration is not making good progress, as measured by the \n",
      "  improvement from the last ten iterations.\n",
      "  warnings.warn(msg, RuntimeWarning)\n",
      "/Users/af/miniconda3/envs/cobenv/lib/python3.7/site-packages/scipy/optimize/minpack.py:162: RuntimeWarning: The iteration is not making good progress, as measured by the \n",
      "  improvement from the last ten iterations.\n",
      "  warnings.warn(msg, RuntimeWarning)\n"
     ]
    },
    {
     "name": "stdout",
     "output_type": "stream",
     "text": [
      "{'GW170817': 1.0139208171189296e-09}\n",
      "GW170817 1.0139208171189296e-09\n",
      "<class 'int'>\n",
      "1\n",
      "<class 'numpy.ndarray'>\n",
      "[[0.         0.         0.         ... 0.         0.         0.        ]\n",
      " [0.         0.         0.         ... 0.         0.         0.        ]\n",
      " [0.         0.         0.         ... 0.         0.         0.        ]\n",
      " ...\n",
      " [0.         0.00016918 0.00085413 ... 0.01832212 0.01877123 0.01916017]\n",
      " [0.0048154  0.01033884 0.02047272 ... 0.0038554  0.00354059 0.00325282]\n",
      " [0.00230376 0.00470352 0.00479643 ... 0.01323442 0.01257259 0.01195208]]\n",
      "{'GW170817': 1.0577643665219902e-09}\n",
      "GW170817 1.0577643665219902e-09\n",
      "<class 'int'>\n",
      "1\n",
      "<class 'numpy.ndarray'>\n",
      "[[0.         0.         0.         ... 0.         0.         0.        ]\n",
      " [0.         0.         0.         ... 0.         0.         0.        ]\n",
      " [0.         0.         0.         ... 0.         0.         0.        ]\n",
      " ...\n",
      " [0.         0.00021661 0.00092518 ... 0.0196843  0.02015822 0.02051286]\n",
      " [0.00500664 0.01072082 0.02360264 ... 0.00346691 0.00336106 0.00335915]\n",
      " [0.00238685 0.00486948 0.00496195 ... 0.01261077 0.01188109 0.01125976]]\n",
      "{'GW170817': 1.1009181486937592e-09}\n",
      "GW170817 1.1009181486937592e-09\n",
      "<class 'int'>\n",
      "1\n",
      "<class 'numpy.ndarray'>\n",
      "[[0.         0.         0.         ... 0.         0.         0.        ]\n",
      " [0.         0.         0.         ... 0.         0.         0.        ]\n",
      " [0.         0.         0.         ... 0.         0.         0.        ]\n",
      " ...\n",
      " [0.         0.00026404 0.00099622 ... 0.02099098 0.0213738  0.02171493]\n",
      " [0.00519787 0.01110277 0.02690439 ... 0.00347121 0.00346714 0.0034651 ]\n",
      " [0.00246993 0.00503542 0.00512745 ... 0.01186467 0.01123868 0.01044234]]\n",
      "{'GW170817': 1.1481894210638242e-09}\n",
      "GW170817 1.1481894210638242e-09\n"
     ]
    },
    {
     "name": "stderr",
     "output_type": "stream",
     "text": [
      "/Users/af/miniconda3/envs/cobenv/lib/python3.7/site-packages/scipy/optimize/minpack.py:162: RuntimeWarning: The iteration is not making good progress, as measured by the \n",
      "  improvement from the last ten iterations.\n",
      "  warnings.warn(msg, RuntimeWarning)\n",
      "/Users/af/miniconda3/envs/cobenv/lib/python3.7/site-packages/scipy/optimize/minpack.py:162: RuntimeWarning: The iteration is not making good progress, as measured by the \n",
      "  improvement from the last ten iterations.\n",
      "  warnings.warn(msg, RuntimeWarning)\n"
     ]
    },
    {
     "name": "stdout",
     "output_type": "stream",
     "text": [
      "<class 'int'>\n",
      "1\n",
      "<class 'numpy.ndarray'>\n",
      "[[0.         0.         0.         ... 0.         0.         0.        ]\n",
      " [0.         0.         0.         ... 0.         0.         0.        ]\n",
      " [0.         0.         0.         ... 0.         0.         0.        ]\n",
      " ...\n",
      " [0.         0.00031146 0.00106725 ... 0.02224383 0.02252327 0.02274679]\n",
      " [0.00538909 0.01148468 0.03020569 ... 0.00357716 0.00357284 0.00357069]\n",
      " [0.00255301 0.00520135 0.00529292 ... 0.01117095 0.01034793 0.00988087]]\n",
      "{'GW170817': 1.1996593122603178e-09}\n",
      "GW170817 1.1996593122603178e-09\n"
     ]
    }
   ],
   "source": [
    "# Compute likelihood for H0 on a grid\n",
    "H0grid = np.linspace(20, 220, 30)\n",
    "lik = np.ones(H0grid.shape) \n",
    "\n",
    "for i, H0 in enumerate(H0grid): \n",
    "    liks = myGWgal.get_inhom_lik(H0, Xi0=1, n=1.91)\n",
    "    print(liks)\n",
    "    for key, val in liks.items():\n",
    "        print(key, val)\n",
    "        lik[i] *= val "
   ]
  },
  {
   "cell_type": "code",
   "execution_count": 41,
   "metadata": {},
   "outputs": [
    {
     "name": "stdout",
     "output_type": "stream",
     "text": [
      "<class 'numpy.ndarray'> (30,)\n",
      "<class 'numpy.ndarray'> (30,)\n"
     ]
    },
    {
     "ename": "TypeError",
     "evalue": "float() argument must be a string or a number, not 'dict'",
     "output_type": "error",
     "traceback": [
      "\u001b[0;31m---------------------------------------------------------------------------\u001b[0m",
      "\u001b[0;31mTypeError\u001b[0m                                 Traceback (most recent call last)",
      "\u001b[0;32m<ipython-input-41-407f364bf857>\u001b[0m in \u001b[0;36m<module>\u001b[0;34m\u001b[0m\n\u001b[1;32m      7\u001b[0m \u001b[0mnorm\u001b[0m\u001b[0;34m=\u001b[0m\u001b[0;36m1\u001b[0m\u001b[0;31m#np.trapz(lik/H0grid**3, H0grid)\u001b[0m\u001b[0;34m\u001b[0m\u001b[0;34m\u001b[0m\u001b[0m\n\u001b[1;32m      8\u001b[0m \u001b[0;34m\u001b[0m\u001b[0m\n\u001b[0;32m----> 9\u001b[0;31m \u001b[0mplt\u001b[0m\u001b[0;34m.\u001b[0m\u001b[0mplot\u001b[0m\u001b[0;34m(\u001b[0m\u001b[0mH0grid\u001b[0m\u001b[0;34m,\u001b[0m \u001b[0mlik\u001b[0m\u001b[0;34m)\u001b[0m\u001b[0;31m#/H0grid**3/norm)\u001b[0m\u001b[0;34m\u001b[0m\u001b[0;34m\u001b[0m\u001b[0m\n\u001b[0m",
      "\u001b[0;32m~/miniconda3/envs/cobenv/lib/python3.7/site-packages/matplotlib/pyplot.py\u001b[0m in \u001b[0;36mplot\u001b[0;34m(*args, **kwargs)\u001b[0m\n\u001b[1;32m   3361\u001b[0m                       mplDeprecation)\n\u001b[1;32m   3362\u001b[0m     \u001b[0;32mtry\u001b[0m\u001b[0;34m:\u001b[0m\u001b[0;34m\u001b[0m\u001b[0;34m\u001b[0m\u001b[0m\n\u001b[0;32m-> 3363\u001b[0;31m         \u001b[0mret\u001b[0m \u001b[0;34m=\u001b[0m \u001b[0max\u001b[0m\u001b[0;34m.\u001b[0m\u001b[0mplot\u001b[0m\u001b[0;34m(\u001b[0m\u001b[0;34m*\u001b[0m\u001b[0margs\u001b[0m\u001b[0;34m,\u001b[0m \u001b[0;34m**\u001b[0m\u001b[0mkwargs\u001b[0m\u001b[0;34m)\u001b[0m\u001b[0;34m\u001b[0m\u001b[0;34m\u001b[0m\u001b[0m\n\u001b[0m\u001b[1;32m   3364\u001b[0m     \u001b[0;32mfinally\u001b[0m\u001b[0;34m:\u001b[0m\u001b[0;34m\u001b[0m\u001b[0;34m\u001b[0m\u001b[0m\n\u001b[1;32m   3365\u001b[0m         \u001b[0max\u001b[0m\u001b[0;34m.\u001b[0m\u001b[0m_hold\u001b[0m \u001b[0;34m=\u001b[0m \u001b[0mwashold\u001b[0m\u001b[0;34m\u001b[0m\u001b[0;34m\u001b[0m\u001b[0m\n",
      "\u001b[0;32m~/miniconda3/envs/cobenv/lib/python3.7/site-packages/matplotlib/__init__.py\u001b[0m in \u001b[0;36minner\u001b[0;34m(ax, *args, **kwargs)\u001b[0m\n\u001b[1;32m   1865\u001b[0m                         \u001b[0;34m\"the Matplotlib list!)\"\u001b[0m \u001b[0;34m%\u001b[0m \u001b[0;34m(\u001b[0m\u001b[0mlabel_namer\u001b[0m\u001b[0;34m,\u001b[0m \u001b[0mfunc\u001b[0m\u001b[0;34m.\u001b[0m\u001b[0m__name__\u001b[0m\u001b[0;34m)\u001b[0m\u001b[0;34m,\u001b[0m\u001b[0;34m\u001b[0m\u001b[0;34m\u001b[0m\u001b[0m\n\u001b[1;32m   1866\u001b[0m                         RuntimeWarning, stacklevel=2)\n\u001b[0;32m-> 1867\u001b[0;31m             \u001b[0;32mreturn\u001b[0m \u001b[0mfunc\u001b[0m\u001b[0;34m(\u001b[0m\u001b[0max\u001b[0m\u001b[0;34m,\u001b[0m \u001b[0;34m*\u001b[0m\u001b[0margs\u001b[0m\u001b[0;34m,\u001b[0m \u001b[0;34m**\u001b[0m\u001b[0mkwargs\u001b[0m\u001b[0;34m)\u001b[0m\u001b[0;34m\u001b[0m\u001b[0;34m\u001b[0m\u001b[0m\n\u001b[0m\u001b[1;32m   1868\u001b[0m \u001b[0;34m\u001b[0m\u001b[0m\n\u001b[1;32m   1869\u001b[0m         inner.__doc__ = _add_data_doc(inner.__doc__,\n",
      "\u001b[0;32m~/miniconda3/envs/cobenv/lib/python3.7/site-packages/matplotlib/axes/_axes.py\u001b[0m in \u001b[0;36mplot\u001b[0;34m(self, *args, **kwargs)\u001b[0m\n\u001b[1;32m   1527\u001b[0m \u001b[0;34m\u001b[0m\u001b[0m\n\u001b[1;32m   1528\u001b[0m         \u001b[0;32mfor\u001b[0m \u001b[0mline\u001b[0m \u001b[0;32min\u001b[0m \u001b[0mself\u001b[0m\u001b[0;34m.\u001b[0m\u001b[0m_get_lines\u001b[0m\u001b[0;34m(\u001b[0m\u001b[0;34m*\u001b[0m\u001b[0margs\u001b[0m\u001b[0;34m,\u001b[0m \u001b[0;34m**\u001b[0m\u001b[0mkwargs\u001b[0m\u001b[0;34m)\u001b[0m\u001b[0;34m:\u001b[0m\u001b[0;34m\u001b[0m\u001b[0;34m\u001b[0m\u001b[0m\n\u001b[0;32m-> 1529\u001b[0;31m             \u001b[0mself\u001b[0m\u001b[0;34m.\u001b[0m\u001b[0madd_line\u001b[0m\u001b[0;34m(\u001b[0m\u001b[0mline\u001b[0m\u001b[0;34m)\u001b[0m\u001b[0;34m\u001b[0m\u001b[0;34m\u001b[0m\u001b[0m\n\u001b[0m\u001b[1;32m   1530\u001b[0m             \u001b[0mlines\u001b[0m\u001b[0;34m.\u001b[0m\u001b[0mappend\u001b[0m\u001b[0;34m(\u001b[0m\u001b[0mline\u001b[0m\u001b[0;34m)\u001b[0m\u001b[0;34m\u001b[0m\u001b[0;34m\u001b[0m\u001b[0m\n\u001b[1;32m   1531\u001b[0m \u001b[0;34m\u001b[0m\u001b[0m\n",
      "\u001b[0;32m~/miniconda3/envs/cobenv/lib/python3.7/site-packages/matplotlib/axes/_base.py\u001b[0m in \u001b[0;36madd_line\u001b[0;34m(self, line)\u001b[0m\n\u001b[1;32m   1958\u001b[0m             \u001b[0mline\u001b[0m\u001b[0;34m.\u001b[0m\u001b[0mset_clip_path\u001b[0m\u001b[0;34m(\u001b[0m\u001b[0mself\u001b[0m\u001b[0;34m.\u001b[0m\u001b[0mpatch\u001b[0m\u001b[0;34m)\u001b[0m\u001b[0;34m\u001b[0m\u001b[0;34m\u001b[0m\u001b[0m\n\u001b[1;32m   1959\u001b[0m \u001b[0;34m\u001b[0m\u001b[0m\n\u001b[0;32m-> 1960\u001b[0;31m         \u001b[0mself\u001b[0m\u001b[0;34m.\u001b[0m\u001b[0m_update_line_limits\u001b[0m\u001b[0;34m(\u001b[0m\u001b[0mline\u001b[0m\u001b[0;34m)\u001b[0m\u001b[0;34m\u001b[0m\u001b[0;34m\u001b[0m\u001b[0m\n\u001b[0m\u001b[1;32m   1961\u001b[0m         \u001b[0;32mif\u001b[0m \u001b[0;32mnot\u001b[0m \u001b[0mline\u001b[0m\u001b[0;34m.\u001b[0m\u001b[0mget_label\u001b[0m\u001b[0;34m(\u001b[0m\u001b[0;34m)\u001b[0m\u001b[0;34m:\u001b[0m\u001b[0;34m\u001b[0m\u001b[0;34m\u001b[0m\u001b[0m\n\u001b[1;32m   1962\u001b[0m             \u001b[0mline\u001b[0m\u001b[0;34m.\u001b[0m\u001b[0mset_label\u001b[0m\u001b[0;34m(\u001b[0m\u001b[0;34m'_line%d'\u001b[0m \u001b[0;34m%\u001b[0m \u001b[0mlen\u001b[0m\u001b[0;34m(\u001b[0m\u001b[0mself\u001b[0m\u001b[0;34m.\u001b[0m\u001b[0mlines\u001b[0m\u001b[0;34m)\u001b[0m\u001b[0;34m)\u001b[0m\u001b[0;34m\u001b[0m\u001b[0;34m\u001b[0m\u001b[0m\n",
      "\u001b[0;32m~/miniconda3/envs/cobenv/lib/python3.7/site-packages/matplotlib/axes/_base.py\u001b[0m in \u001b[0;36m_update_line_limits\u001b[0;34m(self, line)\u001b[0m\n\u001b[1;32m   1980\u001b[0m         \u001b[0mFigures\u001b[0m \u001b[0mout\u001b[0m \u001b[0mthe\u001b[0m \u001b[0mdata\u001b[0m \u001b[0mlimit\u001b[0m \u001b[0mof\u001b[0m \u001b[0mthe\u001b[0m \u001b[0mgiven\u001b[0m \u001b[0mline\u001b[0m\u001b[0;34m,\u001b[0m \u001b[0mupdating\u001b[0m \u001b[0mself\u001b[0m\u001b[0;34m.\u001b[0m\u001b[0mdataLim\u001b[0m\u001b[0;34m.\u001b[0m\u001b[0;34m\u001b[0m\u001b[0;34m\u001b[0m\u001b[0m\n\u001b[1;32m   1981\u001b[0m         \"\"\"\n\u001b[0;32m-> 1982\u001b[0;31m         \u001b[0mpath\u001b[0m \u001b[0;34m=\u001b[0m \u001b[0mline\u001b[0m\u001b[0;34m.\u001b[0m\u001b[0mget_path\u001b[0m\u001b[0;34m(\u001b[0m\u001b[0;34m)\u001b[0m\u001b[0;34m\u001b[0m\u001b[0;34m\u001b[0m\u001b[0m\n\u001b[0m\u001b[1;32m   1983\u001b[0m         \u001b[0;32mif\u001b[0m \u001b[0mpath\u001b[0m\u001b[0;34m.\u001b[0m\u001b[0mvertices\u001b[0m\u001b[0;34m.\u001b[0m\u001b[0msize\u001b[0m \u001b[0;34m==\u001b[0m \u001b[0;36m0\u001b[0m\u001b[0;34m:\u001b[0m\u001b[0;34m\u001b[0m\u001b[0;34m\u001b[0m\u001b[0m\n\u001b[1;32m   1984\u001b[0m             \u001b[0;32mreturn\u001b[0m\u001b[0;34m\u001b[0m\u001b[0;34m\u001b[0m\u001b[0m\n",
      "\u001b[0;32m~/miniconda3/envs/cobenv/lib/python3.7/site-packages/matplotlib/lines.py\u001b[0m in \u001b[0;36mget_path\u001b[0;34m(self)\u001b[0m\n\u001b[1;32m    954\u001b[0m         \"\"\"\n\u001b[1;32m    955\u001b[0m         \u001b[0;32mif\u001b[0m \u001b[0mself\u001b[0m\u001b[0;34m.\u001b[0m\u001b[0m_invalidy\u001b[0m \u001b[0;32mor\u001b[0m \u001b[0mself\u001b[0m\u001b[0;34m.\u001b[0m\u001b[0m_invalidx\u001b[0m\u001b[0;34m:\u001b[0m\u001b[0;34m\u001b[0m\u001b[0;34m\u001b[0m\u001b[0m\n\u001b[0;32m--> 956\u001b[0;31m             \u001b[0mself\u001b[0m\u001b[0;34m.\u001b[0m\u001b[0mrecache\u001b[0m\u001b[0;34m(\u001b[0m\u001b[0;34m)\u001b[0m\u001b[0;34m\u001b[0m\u001b[0;34m\u001b[0m\u001b[0m\n\u001b[0m\u001b[1;32m    957\u001b[0m         \u001b[0;32mreturn\u001b[0m \u001b[0mself\u001b[0m\u001b[0;34m.\u001b[0m\u001b[0m_path\u001b[0m\u001b[0;34m\u001b[0m\u001b[0;34m\u001b[0m\u001b[0m\n\u001b[1;32m    958\u001b[0m \u001b[0;34m\u001b[0m\u001b[0m\n",
      "\u001b[0;32m~/miniconda3/envs/cobenv/lib/python3.7/site-packages/matplotlib/lines.py\u001b[0m in \u001b[0;36mrecache\u001b[0;34m(self, always)\u001b[0m\n\u001b[1;32m    655\u001b[0m         \u001b[0;32mif\u001b[0m \u001b[0malways\u001b[0m \u001b[0;32mor\u001b[0m \u001b[0mself\u001b[0m\u001b[0;34m.\u001b[0m\u001b[0m_invalidy\u001b[0m\u001b[0;34m:\u001b[0m\u001b[0;34m\u001b[0m\u001b[0;34m\u001b[0m\u001b[0m\n\u001b[1;32m    656\u001b[0m             \u001b[0myconv\u001b[0m \u001b[0;34m=\u001b[0m \u001b[0mself\u001b[0m\u001b[0;34m.\u001b[0m\u001b[0mconvert_yunits\u001b[0m\u001b[0;34m(\u001b[0m\u001b[0mself\u001b[0m\u001b[0;34m.\u001b[0m\u001b[0m_yorig\u001b[0m\u001b[0;34m)\u001b[0m\u001b[0;34m\u001b[0m\u001b[0;34m\u001b[0m\u001b[0m\n\u001b[0;32m--> 657\u001b[0;31m             \u001b[0my\u001b[0m \u001b[0;34m=\u001b[0m \u001b[0m_to_unmasked_float_array\u001b[0m\u001b[0;34m(\u001b[0m\u001b[0myconv\u001b[0m\u001b[0;34m)\u001b[0m\u001b[0;34m.\u001b[0m\u001b[0mravel\u001b[0m\u001b[0;34m(\u001b[0m\u001b[0;34m)\u001b[0m\u001b[0;34m\u001b[0m\u001b[0;34m\u001b[0m\u001b[0m\n\u001b[0m\u001b[1;32m    658\u001b[0m         \u001b[0;32melse\u001b[0m\u001b[0;34m:\u001b[0m\u001b[0;34m\u001b[0m\u001b[0;34m\u001b[0m\u001b[0m\n\u001b[1;32m    659\u001b[0m             \u001b[0my\u001b[0m \u001b[0;34m=\u001b[0m \u001b[0mself\u001b[0m\u001b[0;34m.\u001b[0m\u001b[0m_y\u001b[0m\u001b[0;34m\u001b[0m\u001b[0;34m\u001b[0m\u001b[0m\n",
      "\u001b[0;32m~/miniconda3/envs/cobenv/lib/python3.7/site-packages/matplotlib/cbook/__init__.py\u001b[0m in \u001b[0;36m_to_unmasked_float_array\u001b[0;34m(x)\u001b[0m\n\u001b[1;32m   2050\u001b[0m         \u001b[0;32mreturn\u001b[0m \u001b[0mnp\u001b[0m\u001b[0;34m.\u001b[0m\u001b[0mma\u001b[0m\u001b[0;34m.\u001b[0m\u001b[0masarray\u001b[0m\u001b[0;34m(\u001b[0m\u001b[0mx\u001b[0m\u001b[0;34m,\u001b[0m \u001b[0mfloat\u001b[0m\u001b[0;34m)\u001b[0m\u001b[0;34m.\u001b[0m\u001b[0mfilled\u001b[0m\u001b[0;34m(\u001b[0m\u001b[0mnp\u001b[0m\u001b[0;34m.\u001b[0m\u001b[0mnan\u001b[0m\u001b[0;34m)\u001b[0m\u001b[0;34m\u001b[0m\u001b[0;34m\u001b[0m\u001b[0m\n\u001b[1;32m   2051\u001b[0m     \u001b[0;32melse\u001b[0m\u001b[0;34m:\u001b[0m\u001b[0;34m\u001b[0m\u001b[0;34m\u001b[0m\u001b[0m\n\u001b[0;32m-> 2052\u001b[0;31m         \u001b[0;32mreturn\u001b[0m \u001b[0mnp\u001b[0m\u001b[0;34m.\u001b[0m\u001b[0masarray\u001b[0m\u001b[0;34m(\u001b[0m\u001b[0mx\u001b[0m\u001b[0;34m,\u001b[0m \u001b[0mfloat\u001b[0m\u001b[0;34m)\u001b[0m\u001b[0;34m\u001b[0m\u001b[0;34m\u001b[0m\u001b[0m\n\u001b[0m\u001b[1;32m   2053\u001b[0m \u001b[0;34m\u001b[0m\u001b[0m\n\u001b[1;32m   2054\u001b[0m \u001b[0;34m\u001b[0m\u001b[0m\n",
      "\u001b[0;32m~/miniconda3/envs/cobenv/lib/python3.7/site-packages/numpy/core/_asarray.py\u001b[0m in \u001b[0;36masarray\u001b[0;34m(a, dtype, order)\u001b[0m\n\u001b[1;32m     83\u001b[0m \u001b[0;34m\u001b[0m\u001b[0m\n\u001b[1;32m     84\u001b[0m     \"\"\"\n\u001b[0;32m---> 85\u001b[0;31m     \u001b[0;32mreturn\u001b[0m \u001b[0marray\u001b[0m\u001b[0;34m(\u001b[0m\u001b[0ma\u001b[0m\u001b[0;34m,\u001b[0m \u001b[0mdtype\u001b[0m\u001b[0;34m,\u001b[0m \u001b[0mcopy\u001b[0m\u001b[0;34m=\u001b[0m\u001b[0;32mFalse\u001b[0m\u001b[0;34m,\u001b[0m \u001b[0morder\u001b[0m\u001b[0;34m=\u001b[0m\u001b[0morder\u001b[0m\u001b[0;34m)\u001b[0m\u001b[0;34m\u001b[0m\u001b[0;34m\u001b[0m\u001b[0m\n\u001b[0m\u001b[1;32m     86\u001b[0m \u001b[0;34m\u001b[0m\u001b[0m\n\u001b[1;32m     87\u001b[0m \u001b[0;34m\u001b[0m\u001b[0m\n",
      "\u001b[0;31mTypeError\u001b[0m: float() argument must be a string or a number, not 'dict'"
     ]
    },
    {
     "data": {
      "image/png": "[encoded data removed]",
      "text/plain": [
       "<Figure size 432x288 with 1 Axes>"
      ]
     },
     "metadata": {
      "needs_background": "light"
     },
     "output_type": "display_data"
    }
   ],
   "source": [
    "# Plot the posterior with beta=H0^3\n",
    "\n",
    "\n",
    "norm=np.trapz(lik/H0grid**3, H0grid)\n",
    "\n",
    "plt.plot(H0grid, lik)#/H0grid**3/norm)"
   ]
  },
  {
   "cell_type": "code",
   "execution_count": null,
   "metadata": {},
   "outputs": [],
   "source": []
  }
 ],
 "metadata": {
  "kernelspec": {
   "display_name": "Python 3",
   "language": "python",
   "name": "python3"
  },
  "language_info": {
   "codemirror_mode": {
    "name": "ipython",
    "version": 3
   },
   "file_extension": ".py",
   "mimetype": "text/x-python",
   "name": "python",
   "nbconvert_exporter": "python",
   "pygments_lexer": "ipython3",
   "version": "3.7.3"
  }
 },
 "nbformat": 4,
 "nbformat_minor": 2
}
