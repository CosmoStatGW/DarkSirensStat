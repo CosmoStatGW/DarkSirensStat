{
 "cells": [
  {
   "cell_type": "markdown",
   "metadata": {},
   "source": [
    "# Xi0Stat Tutorial"
   ]
  },
  {
   "cell_type": "markdown",
   "metadata": {},
   "source": [
    "## Setup"
   ]
  },
  {
   "cell_type": "code",
   "execution_count": 1,
   "metadata": {},
   "outputs": [
    {
     "data": {
      "application/javascript": [
       "IPython.OutputArea.prototype._should_scroll = function(lines) {\n",
       "    return false;\n",
       "}\n"
      ],
      "text/plain": [
       "<IPython.core.display.Javascript object>"
      ]
     },
     "metadata": {},
     "output_type": "display_data"
    }
   ],
   "source": [
    "%%javascript\n",
    "IPython.OutputArea.prototype._should_scroll = function(lines) {\n",
    "    return false;\n",
    "}"
   ]
  },
  {
   "cell_type": "code",
   "execution_count": 2,
   "metadata": {},
   "outputs": [],
   "source": [
    "import numpy as np\n",
    "import matplotlib.pyplot as plt\n",
    "import scipy.stats\n",
    "from astropy.cosmology import FlatLambdaCDM"
   ]
  },
  {
   "cell_type": "code",
   "execution_count": 3,
   "metadata": {},
   "outputs": [
    {
     "name": "stdout",
     "output_type": "stream",
     "text": [
      "/Users/Michi/Dropbox/Local/Physics_projects/statistical_method_schutz_data_local/Xi0Stat\n"
     ]
    }
   ],
   "source": [
    "%cd ../"
   ]
  },
  {
   "cell_type": "code",
   "execution_count": 4,
   "metadata": {},
   "outputs": [],
   "source": [
    "from Xi0Stat.globals import * \n",
    "from Xi0Stat.GW import get_all_events\n",
    "from Xi0Stat.GLADE import GLADE\n",
    "from Xi0Stat.GWENS import GWENS\n",
    "from Xi0Stat.SYNTH import SYNTH\n",
    "from Xi0Stat.completeness import *\n",
    "from Xi0Stat.galCat import GalCompleted\n",
    "from Xi0Stat.GWgal import GWgal\n",
    "from Xi0Stat.betaHom import BetaHom"
   ]
  },
  {
   "cell_type": "markdown",
   "metadata": {},
   "source": [
    "## GW\n",
    "\n",
    "This module is based on the object Skymap3D. This contains the GW skymap for a single GW event denoted by its name - a string accessible by the attribute self.event_name. E.g.: 'GW170817'\n",
    "Main attributes:\n",
    "- npix: N of pixels\n",
    "- nside : skymap nside\n",
    "- pixarea: area of a pixel in rad^2\n",
    "- p: probability in a pixel (the rho of Singer et al.)\n",
    "- mu, sigma, norm: mu, sigma, N of the skymap \n",
    "- metadata: the metadata of the event. The metadata file should be a .csv file in the folder data/GW/metadata (editable in globals/metaPath). For O2, it should be called GWTC-1-confident.csv . The file in csv is downloadable at https://www.gw-openscience.org/eventapi/html/GWTC-1-confident/\n",
    "\n",
    "Key methods to compute likelihood:\n",
    "\n",
    "- likelihood(self, r, theta, phi) : likelihood given GW lum distance r, and polar angles theta, phi in radians \n",
    "- likelihood_px(self, r, pix) : lileihood  given GW lum distance r and pixel\n",
    "\n",
    "(Note that the likelihood is a Gaussian truncated at zero. )\n",
    "\n",
    "- likelihood_in_credible_region(self, r, level=0.99,) : likelihood in all the pixels of the credible region specified by level at given GW lum disance r\n",
    "- d_max(self, SNR_ref=8): Max GW luminosity distance at which the evend could be seen, assuming its SNR and a threshold SNR_ref:d_max = d_obs*SNR/SNR_ref\n",
    "- get_zlims(self, H0max=220, H0min=20, Xi0max=3, Xi0min=0.2) : Computes the possible range in redshift for the event given the prior range for H0 and XI0\n",
    "\n",
    "\n",
    "\n",
    "Other: the module contains the function get_all_events(loc='data/GW/O2/', subset, subset_names) , that reads all the skymaps in the folder specified by loc and returns a dictionary {event name: Skymap3D}\n",
    "\n",
    "If subset=True, the dictionary will contain only the events specified in subset_names, which should be a list of names, e.g. : get_all_events(loc='data/GW/O2/', subset=True, subset_names=['GW170817',]) to return skymap of GW170817"
   ]
  },
  {
   "cell_type": "code",
   "execution_count": 5,
   "metadata": {},
   "outputs": [
    {
     "name": "stdout",
     "output_type": "stream",
     "text": [
      "--- GW events:\n",
      "['GW170817']\n",
      "Reading skymaps....\n",
      "Initializing Skymap3D...\n",
      "Event name: GW170817 \n",
      "\n"
     ]
    }
   ],
   "source": [
    "# Example: load skymaps of O2 events GW170817 \n",
    "\n",
    "O2 = get_all_events(loc='data/GW/O2/', subset=True, subset_names=['GW170817',])"
   ]
  },
  {
   "cell_type": "code",
   "execution_count": 6,
   "metadata": {},
   "outputs": [
    {
     "data": {
      "text/plain": [
       "16.15640267031496"
      ]
     },
     "execution_count": 6,
     "metadata": {},
     "output_type": "execute_result"
    }
   ],
   "source": [
    "# Example: chech area of the 90% credible region of GW170817\n",
    "\n",
    "O2['GW170817'].area_p(pp=0.9)"
   ]
  },
  {
   "cell_type": "markdown",
   "metadata": {},
   "source": [
    "## Completeness"
   ]
  },
  {
   "cell_type": "code",
   "execution_count": 7,
   "metadata": {},
   "outputs": [
    {
     "name": "stdout",
     "output_type": "stream",
     "text": [
      "Initializing SkipCompleteness...\n"
     ]
    }
   ],
   "source": [
    "compl = SkipCompleteness()"
   ]
  },
  {
   "cell_type": "markdown",
   "metadata": {},
   "source": [
    "## GLADE"
   ]
  },
  {
   "cell_type": "code",
   "execution_count": 8,
   "metadata": {},
   "outputs": [
    {
     "name": "stdout",
     "output_type": "stream",
     "text": [
      "Initializing GLADE...\n",
      "Initializing GalCat...\n",
      "Loading GLADE from /Users/Michi/Dropbox/Local/Physics_projects/statistical_method_schutz_data_local/Xi0Stat/Xi0Stat/../data/GLADE/GLADE_2.4.txt...\n",
      "N. of objects: 3263611\n",
      "Dropping galaxies with HyperLeda name=null and flag2=2...\n",
      "Kept 3262083 points or 100% of total\n",
      "Computing cosmological redshifts from given luminosity distance with H0=70.0 km / (Mpc s), Om0=0.27...\n",
      "Interpolating between z_min=0, z_max=6.49511599474\n",
      "2720966 points have valid entry for dist\n",
      "541117 points have null entry for dist, correcting original redshift\n",
      "Loading galaxy group catalogue from /Users/Michi/Dropbox/Local/Physics_projects/statistical_method_schutz_data_local/Xi0Stat/Xi0Stat/../data/misc/Galaxy_Group_Catalogue.csv...\n",
      "Correcting z_cosmo for group velocities...\n",
      "Correcting z_cosmo for CMB reference frame...\n",
      "Keeping only galaxies with positive redshift in the colums z_cosmo_CMB...\n",
      "Kept 2720852 points or 83% of total\n",
      "Renaming column z_cosmo_CMB to z. This will be used in the analysis.\n",
      "Adding errors on z with GLADE values\n",
      "No cut in luminosity applied. Using weights =1 \n",
      "Keeping only columns: ['theta', 'phi', 'z', 'z_err', 'z_lower', 'z_lowerbound', 'z_upper', 'z_upperbound', 'w']\n",
      "Done.\n",
      "Computing completeness\n",
      "SkipCompleteness: nothing to compute\n"
     ]
    }
   ],
   "source": [
    "glade = GLADE('GLADE', compl, False)"
   ]
  },
  {
   "cell_type": "code",
   "execution_count": 9,
   "metadata": {},
   "outputs": [
    {
     "name": "stdout",
     "output_type": "stream",
     "text": [
      "Initializing GalCompleted...\n"
     ]
    }
   ],
   "source": [
    "gals = GalCompleted()\n",
    "gals.add_cat(glade)"
   ]
  },
  {
   "cell_type": "markdown",
   "metadata": {},
   "source": [
    "## GWgal\n",
    "\n",
    "This module contains the object GWgal. Its main attributes are :\n",
    "- gals : a GalCompleted object\n",
    "- GWevents: a dictionary {event name: Skymap3D} for the GW events\n",
    "\n",
    "At initialization, two other attributes will be created:\n",
    "- cred_pixels : a dictionary {event name: list of pixels of the credible region specified by credible_level (default 0.99)}\n",
    "- z_lims : a dictionary {event name: (z_min, z_max) } where z_min, z_max are the min and max redshift for all prior ranges in H0 and Xi0 . This is computed using mean+-3sigma with mean and sigma the mu and std of the GW luminosity distance, taken from the header of the skymap "
   ]
  },
  {
   "cell_type": "code",
   "execution_count": 10,
   "metadata": {},
   "outputs": [
    {
     "name": "stdout",
     "output_type": "stream",
     "text": [
      "\n",
      " --- GW events: \n",
      "GW170817\n"
     ]
    }
   ],
   "source": [
    "myGWgal = GWgal(gals, O2)"
   ]
  },
  {
   "cell_type": "code",
   "execution_count": 11,
   "metadata": {},
   "outputs": [
    {
     "data": {
      "text/plain": [
       "{'GW170817': (0.0010314992453354975, 0.04593987289261164)}"
      ]
     },
     "execution_count": 11,
     "metadata": {},
     "output_type": "execute_result"
    }
   ],
   "source": [
    "# Example: z limits for GW170817 with prior range H0max=220, H0min=20, Xi0max=3, Xi0min=0.2\n",
    "\n",
    "myGWgal.z_lims"
   ]
  },
  {
   "cell_type": "markdown",
   "metadata": {},
   "source": [
    "## Computing posterior"
   ]
  },
  {
   "cell_type": "code",
   "execution_count": 12,
   "metadata": {},
   "outputs": [
    {
     "name": "stdout",
     "output_type": "stream",
     "text": [
      "Setting z range of the catalogue between 0.0010314992453354975, 0.04593987289261164\n",
      "241118 galaxies kept\n",
      "Restricting area of the catalogue to 4928 pixels with nside=1024\n",
      "1020 galaxies kept\n"
     ]
    }
   ],
   "source": [
    "# Set area and z range in the galaxy catalogue\n",
    "\n",
    "myGWgal.gals.set_z_range( *myGWgal.z_lims['GW170817'])\n",
    "myGWgal.gals.set_area(myGWgal.cred_pixels['GW170817'], myGWgal.GWevents['GW170817'].nside)"
   ]
  },
  {
   "cell_type": "code",
   "execution_count": 13,
   "metadata": {},
   "outputs": [
    {
     "ename": "TypeError",
     "evalue": "ufunc 'true_divide' output (typecode 'O') could not be coerced to provided output parameter (typecode 'd') according to the casting rule ''same_kind''",
     "output_type": "error",
     "traceback": [
      "\u001b[0;31m---------------------------------------------------------------------------\u001b[0m",
      "\u001b[0;31mTypeError\u001b[0m                                 Traceback (most recent call last)",
      "\u001b[0;32m<ipython-input-13-947bc1111c70>\u001b[0m in \u001b[0;36m<module>\u001b[0;34m\u001b[0m\n\u001b[1;32m      1\u001b[0m \u001b[0;31m# Compute likelihood for H0 on a grid\u001b[0m\u001b[0;34m\u001b[0m\u001b[0;34m\u001b[0m\u001b[0;34m\u001b[0m\u001b[0m\n\u001b[1;32m      2\u001b[0m \u001b[0mH0grid\u001b[0m \u001b[0;34m=\u001b[0m \u001b[0mnp\u001b[0m\u001b[0;34m.\u001b[0m\u001b[0mlinspace\u001b[0m\u001b[0;34m(\u001b[0m\u001b[0;36m20\u001b[0m\u001b[0;34m,\u001b[0m \u001b[0;36m220\u001b[0m\u001b[0;34m,\u001b[0m \u001b[0;36m30\u001b[0m\u001b[0;34m)\u001b[0m\u001b[0;34m\u001b[0m\u001b[0;34m\u001b[0m\u001b[0m\n\u001b[0;32m----> 3\u001b[0;31m \u001b[0mlik\u001b[0m \u001b[0;34m=\u001b[0m \u001b[0mnp\u001b[0m\u001b[0;34m.\u001b[0m\u001b[0marray\u001b[0m\u001b[0;34m(\u001b[0m\u001b[0;34m[\u001b[0m\u001b[0mmyGWgal\u001b[0m\u001b[0;34m.\u001b[0m\u001b[0mget_inhom_lik\u001b[0m\u001b[0;34m(\u001b[0m\u001b[0mH0\u001b[0m\u001b[0;34m,\u001b[0m \u001b[0mXi0\u001b[0m\u001b[0;34m=\u001b[0m\u001b[0;36m1\u001b[0m\u001b[0;34m,\u001b[0m \u001b[0mn\u001b[0m\u001b[0;34m=\u001b[0m\u001b[0;36m1.91\u001b[0m\u001b[0;34m)\u001b[0m \u001b[0;32mfor\u001b[0m \u001b[0mH0\u001b[0m \u001b[0;32min\u001b[0m \u001b[0mH0grid\u001b[0m\u001b[0;34m]\u001b[0m\u001b[0;34m)\u001b[0m\u001b[0;34m\u001b[0m\u001b[0;34m\u001b[0m\u001b[0m\n\u001b[0m",
      "\u001b[0;32m<ipython-input-13-947bc1111c70>\u001b[0m in \u001b[0;36m<listcomp>\u001b[0;34m(.0)\u001b[0m\n\u001b[1;32m      1\u001b[0m \u001b[0;31m# Compute likelihood for H0 on a grid\u001b[0m\u001b[0;34m\u001b[0m\u001b[0;34m\u001b[0m\u001b[0;34m\u001b[0m\u001b[0m\n\u001b[1;32m      2\u001b[0m \u001b[0mH0grid\u001b[0m \u001b[0;34m=\u001b[0m \u001b[0mnp\u001b[0m\u001b[0;34m.\u001b[0m\u001b[0mlinspace\u001b[0m\u001b[0;34m(\u001b[0m\u001b[0;36m20\u001b[0m\u001b[0;34m,\u001b[0m \u001b[0;36m220\u001b[0m\u001b[0;34m,\u001b[0m \u001b[0;36m30\u001b[0m\u001b[0;34m)\u001b[0m\u001b[0;34m\u001b[0m\u001b[0;34m\u001b[0m\u001b[0m\n\u001b[0;32m----> 3\u001b[0;31m \u001b[0mlik\u001b[0m \u001b[0;34m=\u001b[0m \u001b[0mnp\u001b[0m\u001b[0;34m.\u001b[0m\u001b[0marray\u001b[0m\u001b[0;34m(\u001b[0m\u001b[0;34m[\u001b[0m\u001b[0mmyGWgal\u001b[0m\u001b[0;34m.\u001b[0m\u001b[0mget_inhom_lik\u001b[0m\u001b[0;34m(\u001b[0m\u001b[0mH0\u001b[0m\u001b[0;34m,\u001b[0m \u001b[0mXi0\u001b[0m\u001b[0;34m=\u001b[0m\u001b[0;36m1\u001b[0m\u001b[0;34m,\u001b[0m \u001b[0mn\u001b[0m\u001b[0;34m=\u001b[0m\u001b[0;36m1.91\u001b[0m\u001b[0;34m)\u001b[0m \u001b[0;32mfor\u001b[0m \u001b[0mH0\u001b[0m \u001b[0;32min\u001b[0m \u001b[0mH0grid\u001b[0m\u001b[0;34m]\u001b[0m\u001b[0;34m)\u001b[0m\u001b[0;34m\u001b[0m\u001b[0;34m\u001b[0m\u001b[0m\n\u001b[0m",
      "\u001b[0;32m~/Dropbox/Local/Physics_projects/statistical_method_schutz_data_local/Xi0Stat/Xi0Stat/GWgal.py\u001b[0m in \u001b[0;36mget_inhom_lik\u001b[0;34m(self, H0, Xi0, n)\u001b[0m\n\u001b[1;32m     44\u001b[0m         '''    \n\u001b[1;32m     45\u001b[0m \u001b[0;34m\u001b[0m\u001b[0m\n\u001b[0;32m---> 46\u001b[0;31m         \u001b[0;32mreturn\u001b[0m \u001b[0;34m{\u001b[0m\u001b[0mevent\u001b[0m\u001b[0;34m:\u001b[0m \u001b[0mself\u001b[0m\u001b[0;34m.\u001b[0m\u001b[0m_inhom_lik\u001b[0m\u001b[0;34m(\u001b[0m\u001b[0mevent\u001b[0m\u001b[0;34m,\u001b[0m \u001b[0mH0\u001b[0m\u001b[0;34m=\u001b[0m\u001b[0mH0\u001b[0m\u001b[0;34m,\u001b[0m \u001b[0mXi0\u001b[0m\u001b[0;34m=\u001b[0m\u001b[0mXi0\u001b[0m\u001b[0;34m,\u001b[0m \u001b[0mn\u001b[0m\u001b[0;34m=\u001b[0m\u001b[0mn\u001b[0m\u001b[0;34m)\u001b[0m \u001b[0;32mfor\u001b[0m \u001b[0mevent\u001b[0m \u001b[0;32min\u001b[0m \u001b[0mself\u001b[0m\u001b[0;34m.\u001b[0m\u001b[0mGWevents\u001b[0m\u001b[0;34m}\u001b[0m\u001b[0;34m\u001b[0m\u001b[0;34m\u001b[0m\u001b[0m\n\u001b[0m\u001b[1;32m     47\u001b[0m \u001b[0;34m\u001b[0m\u001b[0m\n\u001b[1;32m     48\u001b[0m \u001b[0;34m\u001b[0m\u001b[0m\n",
      "\u001b[0;32m~/Dropbox/Local/Physics_projects/statistical_method_schutz_data_local/Xi0Stat/Xi0Stat/GWgal.py\u001b[0m in \u001b[0;36m<dictcomp>\u001b[0;34m(.0)\u001b[0m\n\u001b[1;32m     44\u001b[0m         '''    \n\u001b[1;32m     45\u001b[0m \u001b[0;34m\u001b[0m\u001b[0m\n\u001b[0;32m---> 46\u001b[0;31m         \u001b[0;32mreturn\u001b[0m \u001b[0;34m{\u001b[0m\u001b[0mevent\u001b[0m\u001b[0;34m:\u001b[0m \u001b[0mself\u001b[0m\u001b[0;34m.\u001b[0m\u001b[0m_inhom_lik\u001b[0m\u001b[0;34m(\u001b[0m\u001b[0mevent\u001b[0m\u001b[0;34m,\u001b[0m \u001b[0mH0\u001b[0m\u001b[0;34m=\u001b[0m\u001b[0mH0\u001b[0m\u001b[0;34m,\u001b[0m \u001b[0mXi0\u001b[0m\u001b[0;34m=\u001b[0m\u001b[0mXi0\u001b[0m\u001b[0;34m,\u001b[0m \u001b[0mn\u001b[0m\u001b[0;34m=\u001b[0m\u001b[0mn\u001b[0m\u001b[0;34m)\u001b[0m \u001b[0;32mfor\u001b[0m \u001b[0mevent\u001b[0m \u001b[0;32min\u001b[0m \u001b[0mself\u001b[0m\u001b[0;34m.\u001b[0m\u001b[0mGWevents\u001b[0m\u001b[0;34m}\u001b[0m\u001b[0;34m\u001b[0m\u001b[0;34m\u001b[0m\u001b[0m\n\u001b[0m\u001b[1;32m     47\u001b[0m \u001b[0;34m\u001b[0m\u001b[0m\n\u001b[1;32m     48\u001b[0m \u001b[0;34m\u001b[0m\u001b[0m\n",
      "\u001b[0;32m~/Dropbox/Local/Physics_projects/statistical_method_schutz_data_local/Xi0Stat/Xi0Stat/GWgal.py\u001b[0m in \u001b[0;36m_inhom_lik\u001b[0;34m(self, event, H0, Xi0, n)\u001b[0m\n\u001b[1;32m     81\u001b[0m         \u001b[0mzGrid\u001b[0m \u001b[0;34m=\u001b[0m \u001b[0mnp\u001b[0m\u001b[0;34m.\u001b[0m\u001b[0minterp\u001b[0m\u001b[0;34m(\u001b[0m \u001b[0mrGrid\u001b[0m \u001b[0;34m,\u001b[0m \u001b[0mdLgw_table\u001b[0m\u001b[0;34m,\u001b[0m \u001b[0mz_table\u001b[0m\u001b[0;34m)\u001b[0m\u001b[0;34m.\u001b[0m\u001b[0mT\u001b[0m\u001b[0;34m\u001b[0m\u001b[0;34m\u001b[0m\u001b[0m\n\u001b[1;32m     82\u001b[0m \u001b[0;34m\u001b[0m\u001b[0m\n\u001b[0;32m---> 83\u001b[0;31m         \u001b[0mpixels\u001b[0m\u001b[0;34m,\u001b[0m \u001b[0mz_weights\u001b[0m \u001b[0;34m=\u001b[0m \u001b[0mself\u001b[0m\u001b[0;34m.\u001b[0m\u001b[0mgals\u001b[0m\u001b[0;34m.\u001b[0m\u001b[0mget_inhom_contained\u001b[0m\u001b[0;34m(\u001b[0m\u001b[0mzGrid\u001b[0m\u001b[0;34m,\u001b[0m \u001b[0mself\u001b[0m\u001b[0;34m.\u001b[0m\u001b[0mGWevents\u001b[0m\u001b[0;34m[\u001b[0m\u001b[0mevent\u001b[0m\u001b[0;34m]\u001b[0m\u001b[0;34m.\u001b[0m\u001b[0mnside\u001b[0m \u001b[0;34m)\u001b[0m\u001b[0;34m\u001b[0m\u001b[0;34m\u001b[0m\u001b[0m\n\u001b[0m\u001b[1;32m     84\u001b[0m         \u001b[0;31m#print('pixels shape: %s' %str(pixels.shape))\u001b[0m\u001b[0;34m\u001b[0m\u001b[0;34m\u001b[0m\u001b[0;34m\u001b[0m\u001b[0m\n\u001b[1;32m     85\u001b[0m         \u001b[0ml_weights\u001b[0m \u001b[0;34m=\u001b[0m \u001b[0mnp\u001b[0m\u001b[0;34m.\u001b[0m\u001b[0mones\u001b[0m\u001b[0;34m(\u001b[0m\u001b[0mz_weights\u001b[0m\u001b[0;34m.\u001b[0m\u001b[0mshape\u001b[0m\u001b[0;34m[\u001b[0m\u001b[0;36m0\u001b[0m\u001b[0;34m]\u001b[0m\u001b[0;34m)\u001b[0m\u001b[0;34m\u001b[0m\u001b[0;34m\u001b[0m\u001b[0m\n",
      "\u001b[0;32m~/Dropbox/Local/Physics_projects/statistical_method_schutz_data_local/Xi0Stat/Xi0Stat/galCat.py\u001b[0m in \u001b[0;36mget_inhom_contained\u001b[0;34m(self, zGrid, nside)\u001b[0m\n\u001b[1;32m    292\u001b[0m \u001b[0;34m\u001b[0m\u001b[0m\n\u001b[1;32m    293\u001b[0m             \u001b[0mweights\u001b[0m \u001b[0;34m/=\u001b[0m \u001b[0mself\u001b[0m\u001b[0;34m.\u001b[0m\u001b[0mtotal_completeness\u001b[0m\u001b[0;34m(\u001b[0m\u001b[0md\u001b[0m\u001b[0;34m.\u001b[0m\u001b[0mtheta\u001b[0m\u001b[0;34m,\u001b[0m \u001b[0md\u001b[0m\u001b[0;34m.\u001b[0m\u001b[0mphi\u001b[0m\u001b[0;34m,\u001b[0m \u001b[0mzGrid\u001b[0m\u001b[0;34m)\u001b[0m\u001b[0;34m\u001b[0m\u001b[0;34m\u001b[0m\u001b[0m\n\u001b[0;32m--> 294\u001b[0;31m             \u001b[0mweights\u001b[0m \u001b[0;34m/=\u001b[0m \u001b[0mc\u001b[0m\u001b[0;34m.\u001b[0m\u001b[0m_completeness\u001b[0m\u001b[0;34m.\u001b[0m\u001b[0m_comovingDensityGoal\u001b[0m\u001b[0;34m\u001b[0m\u001b[0;34m\u001b[0m\u001b[0m\n\u001b[0m\u001b[1;32m    295\u001b[0m \u001b[0;34m\u001b[0m\u001b[0m\n\u001b[1;32m    296\u001b[0m             \u001b[0mallweights\u001b[0m\u001b[0;34m.\u001b[0m\u001b[0mappend\u001b[0m\u001b[0;34m(\u001b[0m\u001b[0mweights\u001b[0m\u001b[0;34m)\u001b[0m\u001b[0;34m\u001b[0m\u001b[0;34m\u001b[0m\u001b[0m\n",
      "\u001b[0;31mTypeError\u001b[0m: ufunc 'true_divide' output (typecode 'O') could not be coerced to provided output parameter (typecode 'd') according to the casting rule ''same_kind''"
     ]
    }
   ],
   "source": [
    "# Compute likelihood for H0 on a grid\n",
    "H0grid = np.linspace(20, 220, 30)\n",
    "lik = np.array([myGWgal.get_inhom_lik(H0, Xi0=1, n=1.91) for H0 in H0grid])"
   ]
  },
  {
   "cell_type": "code",
   "execution_count": null,
   "metadata": {},
   "outputs": [],
   "source": [
    "# Plot the posterior with beta=H0^3\n",
    "\n",
    "norm=np.trapz(lik/H0grid**3, H0grid)\n",
    "\n",
    "plt.plot(H0grid, lik/H0grid**3/norm)"
   ]
  },
  {
   "cell_type": "code",
   "execution_count": null,
   "metadata": {},
   "outputs": [],
   "source": []
  }
 ],
 "metadata": {
  "kernelspec": {
   "display_name": "Python 3",
   "language": "python",
   "name": "python3"
  },
  "language_info": {
   "codemirror_mode": {
    "name": "ipython",
    "version": 3
   },
   "file_extension": ".py",
   "mimetype": "text/x-python",
   "name": "python",
   "nbconvert_exporter": "python",
   "pygments_lexer": "ipython3",
   "version": "3.7.3"
  }
 },
 "nbformat": 4,
 "nbformat_minor": 2
}
